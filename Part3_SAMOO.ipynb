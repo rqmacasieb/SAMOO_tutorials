{
 "cells": [
  {
   "cell_type": "markdown",
   "id": "984af293",
   "metadata": {},
   "source": [
    "# Speeding Up the Search for \"Compromise Solutions\" Before It's Too Late\n",
    "### A walk through on Surrogate-Assisted MOO (SAMOO)\n",
    "\n",
    "Now that we know Pareto optimality and that there's a tool to efficiently perform MOO, we have to face another problem: such undertaking is computationally expensive -- for large-scale real-world numerical model, one such forward run could take hours, let alone hundreds of thousand of runs required in MOO.\n",
    "\n",
    "For this tutorial, we will demonstrate how we can speed up the process of MOO by using a surrogate model, without compromising the reliability of solutions. We will still be using the Fonseca-Fleming problem."
   ]
  },
  {
   "cell_type": "code",
   "execution_count": 1,
   "id": "da493aaa",
   "metadata": {},
   "outputs": [],
   "source": [
    "import os\n",
    "import sys\n",
    "import shutil\n",
    "import pandas as pd\n",
    "import numpy as np\n",
    "import matplotlib.pyplot as plt\n",
    "import pyemu\n",
    "import glob\n"
   ]
  },
  {
   "cell_type": "markdown",
   "id": "197eecfb",
   "metadata": {},
   "source": [
    "Recall that the Fonseca-Fleming problem has two objectives with different decision variable values for their respective minimums"
   ]
  },
  {
   "cell_type": "code",
   "execution_count": 2,
   "id": "bd0c09f0",
   "metadata": {},
   "outputs": [],
   "source": [
    "def fonseca_fleming(x):\n",
    "    x = np.array(x)\n",
    "    n = len(x)\n",
    "    # Fonseca-Fleming objective functions\n",
    "    # f1(x) = 1 - exp(-sum((xi - 1/sqrt(n))^2))\n",
    "    # f2(x) = 1 - exp(-sum((xi + 1/sqrt(n))^2))\n",
    "    term1 = np.sum((x - 1/np.sqrt(n))**2)\n",
    "    term2 = np.sum((x + 1/np.sqrt(n))**2)\n",
    "    \n",
    "    obj1 = 1 - np.exp(-term1)\n",
    "    obj2 = 1 - np.exp(-term2)\n",
    "    \n",
    "    return obj1, obj2\n",
    "\n",
    "n_samples = 1000\n",
    "x1_range = np.linspace(-4, 4, int(np.sqrt(n_samples)))\n",
    "x2_range = np.linspace(-4, 4, int(np.sqrt(n_samples)))\n",
    "x1, x2 = np.meshgrid(x1_range, x2_range)\n",
    "x1 = x1.flatten()\n",
    "x2 = x2.flatten()\n",
    "\n",
    "x1 = x1[:n_samples]\n",
    "x2 = x2[:n_samples]\n",
    "\n",
    "n_actual = min(len(x1), len(x2))\n",
    "objectives = np.array([fonseca_fleming([x1[i], x2[i]]) for i in range(n_actual)])\n",
    "obj1 = objectives[:, 0]\n",
    "obj2 = objectives[:, 1]"
   ]
  },
  {
   "cell_type": "markdown",
   "id": "e0cbfbc2",
   "metadata": {},
   "source": [
    "Let us first generate the template files we need."
   ]
  },
  {
   "cell_type": "code",
   "execution_count": 3,
   "id": "5bef47db",
   "metadata": {},
   "outputs": [
    {
     "data": {
      "text/plain": [
       "'fonseca_fleming_demo'"
      ]
     },
     "execution_count": 3,
     "metadata": {},
     "output_type": "execute_result"
    }
   ],
   "source": [
    "base_d = \"./base_files\"\n",
    "assert os.path.exists(base_d)\n",
    "\n",
    "temp_d = \"fonseca_fleming_demo\"\n",
    "if os.path.exists(temp_d):\n",
    "    shutil.rmtree(temp_d)\n",
    "shutil.copytree(base_d,temp_d)"
   ]
  },
  {
   "cell_type": "markdown",
   "id": "533b6006",
   "metadata": {},
   "source": [
    "We can easily find Pareto optimal set of decision variables by running PESTPP-MOU. Let's generate an initial swarm size of 30 and perform 20 iterations of MOO. To ensure that our initial population is evenly distributed and sufficiently samples the decision space, it is advisable to use Latin Hypercube Sampling (LHS)."
   ]
  },
  {
   "cell_type": "code",
   "execution_count": 4,
   "id": "831677f8",
   "metadata": {},
   "outputs": [
    {
     "name": "stdout",
     "output_type": "stream",
     "text": [
      "noptmax:20, npar_adj:2, nnz_obs:2\n"
     ]
    },
    {
     "data": {
      "text/html": [
       "<div>\n",
       "<style scoped>\n",
       "    .dataframe tbody tr th:only-of-type {\n",
       "        vertical-align: middle;\n",
       "    }\n",
       "\n",
       "    .dataframe tbody tr th {\n",
       "        vertical-align: top;\n",
       "    }\n",
       "\n",
       "    .dataframe thead th {\n",
       "        text-align: right;\n",
       "    }\n",
       "</style>\n",
       "<table border=\"1\" class=\"dataframe\">\n",
       "  <thead>\n",
       "    <tr style=\"text-align: right;\">\n",
       "      <th></th>\n",
       "      <th>x1</th>\n",
       "      <th>x2</th>\n",
       "    </tr>\n",
       "    <tr>\n",
       "      <th>real_name</th>\n",
       "      <th></th>\n",
       "      <th></th>\n",
       "    </tr>\n",
       "  </thead>\n",
       "  <tbody>\n",
       "    <tr>\n",
       "      <th>gen=0_member=0</th>\n",
       "      <td>1.887561</td>\n",
       "      <td>-0.223269</td>\n",
       "    </tr>\n",
       "    <tr>\n",
       "      <th>gen=0_member=1</th>\n",
       "      <td>3.454429</td>\n",
       "      <td>-3.692941</td>\n",
       "    </tr>\n",
       "    <tr>\n",
       "      <th>gen=0_member=2</th>\n",
       "      <td>-2.880031</td>\n",
       "      <td>1.271993</td>\n",
       "    </tr>\n",
       "    <tr>\n",
       "      <th>gen=0_member=3</th>\n",
       "      <td>-2.632732</td>\n",
       "      <td>2.611222</td>\n",
       "    </tr>\n",
       "    <tr>\n",
       "      <th>gen=0_member=4</th>\n",
       "      <td>-0.444661</td>\n",
       "      <td>1.678762</td>\n",
       "    </tr>\n",
       "  </tbody>\n",
       "</table>\n",
       "</div>"
      ],
      "text/plain": [
       "                      x1        x2\n",
       "real_name                         \n",
       "gen=0_member=0  1.887561 -0.223269\n",
       "gen=0_member=1  3.454429 -3.692941\n",
       "gen=0_member=2 -2.880031  1.271993\n",
       "gen=0_member=3 -2.632732  2.611222\n",
       "gen=0_member=4 -0.444661  1.678762"
      ]
     },
     "execution_count": 4,
     "metadata": {},
     "output_type": "execute_result"
    }
   ],
   "source": [
    "# You can change the size of initial sample or the number of inner iterations if you want to try other values. \n",
    "# Just be aware that larger sample size and more inner iterations will take longer time to run.\n",
    "swarm_size = 30\n",
    "nmax_inner = 20\n",
    "\n",
    "sys.path.append(temp_d)\n",
    "from LHS_sampler import generate_lhsstarter\n",
    "bounds = np.array([[-4, 4] for i in range(2)])\n",
    "generate_lhsstarter(os.path.join(temp_d,'fon_pbm_template'), seed=42, n_samples=swarm_size, n_dimensions=2, bounds=bounds) \n",
    "\n",
    "pst_file = os.path.join(temp_d, 'fon_pbm_template', 'fon.pst')\n",
    "pst = pyemu.Pst(pst_file)\n",
    "pst.pestpp_options['mou_population_size'] = swarm_size\n",
    "pst.pestpp_options['mou_dv_population_file'] = 'starter.dv_pop.csv'\n",
    "pst.control_data.noptmax = nmax_inner\n",
    "pst.write(os.path.join(temp_d, 'fon_pbm_template', os.path.basename(pst_file)))\n",
    "\n",
    "starter_pop = pd.read_csv(os.path.join(temp_d, \"fon_pbm_template\", \"starter.dv_pop.csv\"), index_col=\"real_name\")\n",
    "starter_pop.head()"
   ]
  },
  {
   "cell_type": "markdown",
   "id": "b26f05f9",
   "metadata": {},
   "source": [
    "Now that we have generated an initial population, let us run pestpp-mou..."
   ]
  },
  {
   "cell_type": "code",
   "execution_count": 5,
   "id": "6fefa492",
   "metadata": {},
   "outputs": [],
   "source": [
    "num_workers = 8\n",
    "tmpl_in = os.path.join(temp_d, \"fon_pbm_template\")\n",
    "sys.path.insert(0,tmpl_in)\n",
    "from forward_pbrun import ppw_worker as ppw_function\n",
    "pyemu.os_utils.start_workers(tmpl_in, \"pestpp-mou\", \"fon.pst\", num_workers = num_workers,\n",
    "                             worker_root = temp_d, master_dir = os.path.join(temp_d, \"pbm_run\"),\n",
    "                             ppw_function = ppw_function)\n",
    "sys.path.remove(tmpl_in)"
   ]
  },
  {
   "cell_type": "markdown",
   "id": "6131c5af",
   "metadata": {},
   "source": [
    "Let's plot the resulting Pareto front. Use the slider to observe how the swarm's position evolves in the objective space at each iteration as it searches for the Pareto front until it eventually converge. Also observe how the swarm moves in the decision space."
   ]
  },
  {
   "cell_type": "code",
   "execution_count": 16,
   "id": "b3a8f83f",
   "metadata": {},
   "outputs": [
    {
     "ename": "FileNotFoundError",
     "evalue": "[Errno 2] No such file or directory: 'fonseca_fleming_demo\\\\pbm_run\\\\fon.pareto.summary.csv'",
     "output_type": "error",
     "traceback": [
      "\u001b[1;31m---------------------------------------------------------------------------\u001b[0m",
      "\u001b[1;31mFileNotFoundError\u001b[0m                         Traceback (most recent call last)",
      "Cell \u001b[1;32mIn[16], line 8\u001b[0m\n\u001b[0;32m      5\u001b[0m \u001b[38;5;28;01mimport\u001b[39;00m \u001b[38;5;21;01mglob\u001b[39;00m\n\u001b[0;32m      6\u001b[0m \u001b[38;5;28;01mimport\u001b[39;00m \u001b[38;5;21;01mmatplotlib\u001b[39;00m\u001b[38;5;21;01m.\u001b[39;00m\u001b[38;5;21;01mpyplot\u001b[39;00m \u001b[38;5;28;01mas\u001b[39;00m \u001b[38;5;21;01mplt\u001b[39;00m\n\u001b[1;32m----> 8\u001b[0m run_data \u001b[38;5;241m=\u001b[39m pd\u001b[38;5;241m.\u001b[39mread_csv(os\u001b[38;5;241m.\u001b[39mpath\u001b[38;5;241m.\u001b[39mjoin(temp_d, \u001b[38;5;124m\"\u001b[39m\u001b[38;5;124mpbm_run\u001b[39m\u001b[38;5;124m\"\u001b[39m, \u001b[38;5;124m\"\u001b[39m\u001b[38;5;124mfon.pareto.summary.csv\u001b[39m\u001b[38;5;124m\"\u001b[39m))\n\u001b[0;32m      9\u001b[0m max_gen \u001b[38;5;241m=\u001b[39m \u001b[38;5;28mmax\u001b[39m(run_data[\u001b[38;5;124m'\u001b[39m\u001b[38;5;124mgeneration\u001b[39m\u001b[38;5;124m'\u001b[39m])\n\u001b[0;32m     11\u001b[0m csvfiles \u001b[38;5;241m=\u001b[39m \u001b[38;5;28msorted\u001b[39m(glob\u001b[38;5;241m.\u001b[39mglob(os\u001b[38;5;241m.\u001b[39mpath\u001b[38;5;241m.\u001b[39mjoin(temp_d, \u001b[38;5;124m\"\u001b[39m\u001b[38;5;124mpbm_run\u001b[39m\u001b[38;5;124m\"\u001b[39m, \u001b[38;5;124m\"\u001b[39m\u001b[38;5;124m*[0-999].dv_pop.csv\u001b[39m\u001b[38;5;124m\"\u001b[39m), recursive\u001b[38;5;241m=\u001b[39m\u001b[38;5;28;01mTrue\u001b[39;00m), \n\u001b[0;32m     12\u001b[0m                   key\u001b[38;5;241m=\u001b[39m\u001b[38;5;28;01mlambda\u001b[39;00m x: \u001b[38;5;28mint\u001b[39m(x\u001b[38;5;241m.\u001b[39msplit(\u001b[38;5;124m\"\u001b[39m\u001b[38;5;124m.dv\u001b[39m\u001b[38;5;124m\"\u001b[39m)[\u001b[38;5;241m0\u001b[39m]\u001b[38;5;241m.\u001b[39msplit(\u001b[38;5;124m\"\u001b[39m\u001b[38;5;124m.\u001b[39m\u001b[38;5;124m\"\u001b[39m)[\u001b[38;5;241m1\u001b[39m]))\n",
      "File \u001b[1;32mc:\\Users\\rmacasieb\\AppData\\Local\\anaconda3\\Lib\\site-packages\\pandas\\io\\parsers\\readers.py:1026\u001b[0m, in \u001b[0;36mread_csv\u001b[1;34m(filepath_or_buffer, sep, delimiter, header, names, index_col, usecols, dtype, engine, converters, true_values, false_values, skipinitialspace, skiprows, skipfooter, nrows, na_values, keep_default_na, na_filter, verbose, skip_blank_lines, parse_dates, infer_datetime_format, keep_date_col, date_parser, date_format, dayfirst, cache_dates, iterator, chunksize, compression, thousands, decimal, lineterminator, quotechar, quoting, doublequote, escapechar, comment, encoding, encoding_errors, dialect, on_bad_lines, delim_whitespace, low_memory, memory_map, float_precision, storage_options, dtype_backend)\u001b[0m\n\u001b[0;32m   1013\u001b[0m kwds_defaults \u001b[38;5;241m=\u001b[39m _refine_defaults_read(\n\u001b[0;32m   1014\u001b[0m     dialect,\n\u001b[0;32m   1015\u001b[0m     delimiter,\n\u001b[1;32m   (...)\u001b[0m\n\u001b[0;32m   1022\u001b[0m     dtype_backend\u001b[38;5;241m=\u001b[39mdtype_backend,\n\u001b[0;32m   1023\u001b[0m )\n\u001b[0;32m   1024\u001b[0m kwds\u001b[38;5;241m.\u001b[39mupdate(kwds_defaults)\n\u001b[1;32m-> 1026\u001b[0m \u001b[38;5;28;01mreturn\u001b[39;00m _read(filepath_or_buffer, kwds)\n",
      "File \u001b[1;32mc:\\Users\\rmacasieb\\AppData\\Local\\anaconda3\\Lib\\site-packages\\pandas\\io\\parsers\\readers.py:620\u001b[0m, in \u001b[0;36m_read\u001b[1;34m(filepath_or_buffer, kwds)\u001b[0m\n\u001b[0;32m    617\u001b[0m _validate_names(kwds\u001b[38;5;241m.\u001b[39mget(\u001b[38;5;124m\"\u001b[39m\u001b[38;5;124mnames\u001b[39m\u001b[38;5;124m\"\u001b[39m, \u001b[38;5;28;01mNone\u001b[39;00m))\n\u001b[0;32m    619\u001b[0m \u001b[38;5;66;03m# Create the parser.\u001b[39;00m\n\u001b[1;32m--> 620\u001b[0m parser \u001b[38;5;241m=\u001b[39m TextFileReader(filepath_or_buffer, \u001b[38;5;241m*\u001b[39m\u001b[38;5;241m*\u001b[39mkwds)\n\u001b[0;32m    622\u001b[0m \u001b[38;5;28;01mif\u001b[39;00m chunksize \u001b[38;5;129;01mor\u001b[39;00m iterator:\n\u001b[0;32m    623\u001b[0m     \u001b[38;5;28;01mreturn\u001b[39;00m parser\n",
      "File \u001b[1;32mc:\\Users\\rmacasieb\\AppData\\Local\\anaconda3\\Lib\\site-packages\\pandas\\io\\parsers\\readers.py:1620\u001b[0m, in \u001b[0;36mTextFileReader.__init__\u001b[1;34m(self, f, engine, **kwds)\u001b[0m\n\u001b[0;32m   1617\u001b[0m     \u001b[38;5;28mself\u001b[39m\u001b[38;5;241m.\u001b[39moptions[\u001b[38;5;124m\"\u001b[39m\u001b[38;5;124mhas_index_names\u001b[39m\u001b[38;5;124m\"\u001b[39m] \u001b[38;5;241m=\u001b[39m kwds[\u001b[38;5;124m\"\u001b[39m\u001b[38;5;124mhas_index_names\u001b[39m\u001b[38;5;124m\"\u001b[39m]\n\u001b[0;32m   1619\u001b[0m \u001b[38;5;28mself\u001b[39m\u001b[38;5;241m.\u001b[39mhandles: IOHandles \u001b[38;5;241m|\u001b[39m \u001b[38;5;28;01mNone\u001b[39;00m \u001b[38;5;241m=\u001b[39m \u001b[38;5;28;01mNone\u001b[39;00m\n\u001b[1;32m-> 1620\u001b[0m \u001b[38;5;28mself\u001b[39m\u001b[38;5;241m.\u001b[39m_engine \u001b[38;5;241m=\u001b[39m \u001b[38;5;28mself\u001b[39m\u001b[38;5;241m.\u001b[39m_make_engine(f, \u001b[38;5;28mself\u001b[39m\u001b[38;5;241m.\u001b[39mengine)\n",
      "File \u001b[1;32mc:\\Users\\rmacasieb\\AppData\\Local\\anaconda3\\Lib\\site-packages\\pandas\\io\\parsers\\readers.py:1880\u001b[0m, in \u001b[0;36mTextFileReader._make_engine\u001b[1;34m(self, f, engine)\u001b[0m\n\u001b[0;32m   1878\u001b[0m     \u001b[38;5;28;01mif\u001b[39;00m \u001b[38;5;124m\"\u001b[39m\u001b[38;5;124mb\u001b[39m\u001b[38;5;124m\"\u001b[39m \u001b[38;5;129;01mnot\u001b[39;00m \u001b[38;5;129;01min\u001b[39;00m mode:\n\u001b[0;32m   1879\u001b[0m         mode \u001b[38;5;241m+\u001b[39m\u001b[38;5;241m=\u001b[39m \u001b[38;5;124m\"\u001b[39m\u001b[38;5;124mb\u001b[39m\u001b[38;5;124m\"\u001b[39m\n\u001b[1;32m-> 1880\u001b[0m \u001b[38;5;28mself\u001b[39m\u001b[38;5;241m.\u001b[39mhandles \u001b[38;5;241m=\u001b[39m get_handle(\n\u001b[0;32m   1881\u001b[0m     f,\n\u001b[0;32m   1882\u001b[0m     mode,\n\u001b[0;32m   1883\u001b[0m     encoding\u001b[38;5;241m=\u001b[39m\u001b[38;5;28mself\u001b[39m\u001b[38;5;241m.\u001b[39moptions\u001b[38;5;241m.\u001b[39mget(\u001b[38;5;124m\"\u001b[39m\u001b[38;5;124mencoding\u001b[39m\u001b[38;5;124m\"\u001b[39m, \u001b[38;5;28;01mNone\u001b[39;00m),\n\u001b[0;32m   1884\u001b[0m     compression\u001b[38;5;241m=\u001b[39m\u001b[38;5;28mself\u001b[39m\u001b[38;5;241m.\u001b[39moptions\u001b[38;5;241m.\u001b[39mget(\u001b[38;5;124m\"\u001b[39m\u001b[38;5;124mcompression\u001b[39m\u001b[38;5;124m\"\u001b[39m, \u001b[38;5;28;01mNone\u001b[39;00m),\n\u001b[0;32m   1885\u001b[0m     memory_map\u001b[38;5;241m=\u001b[39m\u001b[38;5;28mself\u001b[39m\u001b[38;5;241m.\u001b[39moptions\u001b[38;5;241m.\u001b[39mget(\u001b[38;5;124m\"\u001b[39m\u001b[38;5;124mmemory_map\u001b[39m\u001b[38;5;124m\"\u001b[39m, \u001b[38;5;28;01mFalse\u001b[39;00m),\n\u001b[0;32m   1886\u001b[0m     is_text\u001b[38;5;241m=\u001b[39mis_text,\n\u001b[0;32m   1887\u001b[0m     errors\u001b[38;5;241m=\u001b[39m\u001b[38;5;28mself\u001b[39m\u001b[38;5;241m.\u001b[39moptions\u001b[38;5;241m.\u001b[39mget(\u001b[38;5;124m\"\u001b[39m\u001b[38;5;124mencoding_errors\u001b[39m\u001b[38;5;124m\"\u001b[39m, \u001b[38;5;124m\"\u001b[39m\u001b[38;5;124mstrict\u001b[39m\u001b[38;5;124m\"\u001b[39m),\n\u001b[0;32m   1888\u001b[0m     storage_options\u001b[38;5;241m=\u001b[39m\u001b[38;5;28mself\u001b[39m\u001b[38;5;241m.\u001b[39moptions\u001b[38;5;241m.\u001b[39mget(\u001b[38;5;124m\"\u001b[39m\u001b[38;5;124mstorage_options\u001b[39m\u001b[38;5;124m\"\u001b[39m, \u001b[38;5;28;01mNone\u001b[39;00m),\n\u001b[0;32m   1889\u001b[0m )\n\u001b[0;32m   1890\u001b[0m \u001b[38;5;28;01massert\u001b[39;00m \u001b[38;5;28mself\u001b[39m\u001b[38;5;241m.\u001b[39mhandles \u001b[38;5;129;01mis\u001b[39;00m \u001b[38;5;129;01mnot\u001b[39;00m \u001b[38;5;28;01mNone\u001b[39;00m\n\u001b[0;32m   1891\u001b[0m f \u001b[38;5;241m=\u001b[39m \u001b[38;5;28mself\u001b[39m\u001b[38;5;241m.\u001b[39mhandles\u001b[38;5;241m.\u001b[39mhandle\n",
      "File \u001b[1;32mc:\\Users\\rmacasieb\\AppData\\Local\\anaconda3\\Lib\\site-packages\\pandas\\io\\common.py:873\u001b[0m, in \u001b[0;36mget_handle\u001b[1;34m(path_or_buf, mode, encoding, compression, memory_map, is_text, errors, storage_options)\u001b[0m\n\u001b[0;32m    868\u001b[0m \u001b[38;5;28;01melif\u001b[39;00m \u001b[38;5;28misinstance\u001b[39m(handle, \u001b[38;5;28mstr\u001b[39m):\n\u001b[0;32m    869\u001b[0m     \u001b[38;5;66;03m# Check whether the filename is to be opened in binary mode.\u001b[39;00m\n\u001b[0;32m    870\u001b[0m     \u001b[38;5;66;03m# Binary mode does not support 'encoding' and 'newline'.\u001b[39;00m\n\u001b[0;32m    871\u001b[0m     \u001b[38;5;28;01mif\u001b[39;00m ioargs\u001b[38;5;241m.\u001b[39mencoding \u001b[38;5;129;01mand\u001b[39;00m \u001b[38;5;124m\"\u001b[39m\u001b[38;5;124mb\u001b[39m\u001b[38;5;124m\"\u001b[39m \u001b[38;5;129;01mnot\u001b[39;00m \u001b[38;5;129;01min\u001b[39;00m ioargs\u001b[38;5;241m.\u001b[39mmode:\n\u001b[0;32m    872\u001b[0m         \u001b[38;5;66;03m# Encoding\u001b[39;00m\n\u001b[1;32m--> 873\u001b[0m         handle \u001b[38;5;241m=\u001b[39m \u001b[38;5;28mopen\u001b[39m(\n\u001b[0;32m    874\u001b[0m             handle,\n\u001b[0;32m    875\u001b[0m             ioargs\u001b[38;5;241m.\u001b[39mmode,\n\u001b[0;32m    876\u001b[0m             encoding\u001b[38;5;241m=\u001b[39mioargs\u001b[38;5;241m.\u001b[39mencoding,\n\u001b[0;32m    877\u001b[0m             errors\u001b[38;5;241m=\u001b[39merrors,\n\u001b[0;32m    878\u001b[0m             newline\u001b[38;5;241m=\u001b[39m\u001b[38;5;124m\"\u001b[39m\u001b[38;5;124m\"\u001b[39m,\n\u001b[0;32m    879\u001b[0m         )\n\u001b[0;32m    880\u001b[0m     \u001b[38;5;28;01melse\u001b[39;00m:\n\u001b[0;32m    881\u001b[0m         \u001b[38;5;66;03m# Binary mode\u001b[39;00m\n\u001b[0;32m    882\u001b[0m         handle \u001b[38;5;241m=\u001b[39m \u001b[38;5;28mopen\u001b[39m(handle, ioargs\u001b[38;5;241m.\u001b[39mmode)\n",
      "\u001b[1;31mFileNotFoundError\u001b[0m: [Errno 2] No such file or directory: 'fonseca_fleming_demo\\\\pbm_run\\\\fon.pareto.summary.csv'"
     ]
    }
   ],
   "source": [
    "from ipywidgets import interact, IntSlider, HBox, VBox, Output\n",
    "from IPython.display import display\n",
    "from scipy.interpolate import griddata\n",
    "import numpy as np\n",
    "import glob\n",
    "import matplotlib.pyplot as plt\n",
    "\n",
    "run_data = pd.read_csv(os.path.join(temp_d, \"pbm_run\", \"fon.pareto.summary.csv\"))\n",
    "max_gen = max(run_data['generation'])\n",
    "\n",
    "csvfiles = sorted(glob.glob(os.path.join(temp_d, \"pbm_run\", \"*[0-999].dv_pop.csv\"), recursive=True), \n",
    "                  key=lambda x: int(x.split(\".dv\")[0].split(\".\")[1]))\n",
    "all_dv_list = []\n",
    "for file in csvfiles:\n",
    "    generation = int(file.split(\".dv\")[0].split(\".\")[1])\n",
    "    df = pd.read_csv(file).assign(generation=generation)\n",
    "    df = df[['generation'] + [col for col in df.columns if col != 'generation']] \n",
    "    all_dv_list.append(df)\n",
    "all_dv = pd.concat(all_dv_list, ignore_index=True)\n",
    "\n",
    "csvfiles = sorted(glob.glob(os.path.join(temp_d, \"pbm_run\", \"*[0-999].obs_pop.csv\"), recursive=True), \n",
    "                      key=lambda x: int(x.split(\".obs\")[0].split(\".\")[1]))\n",
    "\n",
    "all_obs_list = []\n",
    "for file in csvfiles:\n",
    "    generation = int(file.split(\".obs\")[0].split(\".\")[1])\n",
    "    df = pd.read_csv(file).assign(generation=generation)\n",
    "    df = df[['generation'] + [col for col in df.columns if col != 'generation']] \n",
    "    all_obs_list.append(df)\n",
    "all_obs = pd.concat(all_obs_list, ignore_index=True)\n",
    "\n",
    "all_data = pd.merge(all_dv, all_obs, on=['generation', 'real_name'])\n",
    "max_gen = max(all_data['generation'])\n",
    "\n",
    "x = all_data['x1'].values\n",
    "y = all_data['x2'].values\n",
    "z1 = all_data['obj1'].values\n",
    "z2 = all_data['obj2'].values\n",
    "\n",
    "xi = np.linspace(min(x), max(x), 100)\n",
    "yi = np.linspace(min(y), max(y), 100)\n",
    "xi_grid, yi_grid = np.meshgrid(xi, yi)\n",
    "\n",
    "zi1 = griddata((x, y), z1, (xi_grid, yi_grid), method='cubic')\n",
    "zi2 = griddata((x, y), z2, (xi_grid, yi_grid), method='cubic')\n",
    "\n",
    "out_pareto = Output()\n",
    "out_obj_space = Output()\n",
    "out_contour = Output()\n",
    "\n",
    "def plot_all(generation):\n",
    "\n",
    "    with out_pareto:\n",
    "        out_pareto.clear_output(wait=True)\n",
    "        pareto = run_data.loc[(run_data['generation']==generation) & (run_data['nsga2_front'] == 1)]\n",
    "        plt.figure(figsize=(6, 4))\n",
    "        plt.scatter(pareto['obj1'], pareto['obj2'], c='firebrick', s=50, alpha=0.7)\n",
    "        plt.xlabel('Objective 1')\n",
    "        plt.ylabel('Objective 2')\n",
    "        plt.title(f'Pareto Front at Generation {generation}')\n",
    "        plt.tight_layout()\n",
    "        plt.show()\n",
    "\n",
    "    with out_obj_space:\n",
    "        out_obj_space.clear_output(wait=True)\n",
    "        all_points = run_data.loc[(run_data['generation']==generation)]\n",
    "        plt.figure(figsize=(6, 4))\n",
    "        plt.scatter(all_points['obj1'], all_points['obj2'], edgecolor='green', c = 'none', s=50, alpha=0.7)\n",
    "        plt.xlabel('Objective 1')\n",
    "        plt.ylabel('Objective 2')\n",
    "        plt.title(f'Objective Space at Generation {generation}')\n",
    "        plt.tight_layout()\n",
    "        plt.show()\n",
    "\n",
    "    with out_contour:\n",
    "        out_contour.clear_output(wait=True)\n",
    "        fig, ax = plt.subplots(figsize=(8, 6))\n",
    "        contour1 = ax.contourf(xi_grid, yi_grid, zi1, 15, cmap='plasma', alpha=0.5)\n",
    "        fig.colorbar(contour1, ax=ax, label='Objective 1')\n",
    "        contour2 = ax.contour(xi_grid, yi_grid, zi2, 15, cmap='viridis', alpha=0.7)\n",
    "        fig.colorbar(contour2, ax=ax, label='Objective 2')\n",
    "\n",
    "        pareto_members = pareto['member'].values\n",
    "        pareto_dv = all_data[all_data['real_name'].isin(pareto_members)]\n",
    "        ax.scatter(pareto_dv['x1'], pareto_dv['x2'], edgecolor='firebrick', facecolor='none', s=40, alpha=0.8)\n",
    "        \n",
    "        ax.set_xlabel('x1')\n",
    "        ax.set_ylabel('x2')\n",
    "        ax.set_title(f'Pareto Optimal Decisions at Generation {generation}')\n",
    "        ax.grid(True)\n",
    "        plt.tight_layout()\n",
    "        plt.show()\n",
    "\n",
    "generation_slider = IntSlider(min=0, max=max_gen, step=1, value=max_gen, \n",
    "                             description='Generation:',\n",
    "                             continuous_update=False)\n",
    "plot_all(max_gen)\n",
    "\n",
    "generation_slider.observe(lambda change: plot_all(change['new']), names='value')\n",
    "display(VBox([\n",
    "    generation_slider,\n",
    "    HBox([out_obj_space, out_pareto]),\n",
    "    out_contour\n",
    "]))\n"
   ]
  },
  {
   "cell_type": "markdown",
   "id": "7dff5d40",
   "metadata": {},
   "source": [
    "As this benchmark is really easy, it doesn't take much time to finish the entire optimization process and it doesn't take a lot of iteration to obtain a set of Pareto optimal solutions. However, in reality, real-world models do not run this fast. Even with parallelisation, it can take a few hundred, even thousand iterations until the swarm converges to the Pareto front. If important timely decisions rely on the outcome of such optimisation process, we would need some help to speed up this process. \n",
    "\n",
    "Let's pretend for a while that the Fonseca-Fleming problem is a complex model that is expensive to evaluate. There's nothing we could do about the run time of the complex model. What we can do though is to employ an \"emulator\", a faster and cheaper model that approximates the relationships between the known (i.e., previously evaluated) input and outputs of the complex model in order to predict its response to some input values that were not previously evaluated. This emulator is also known as the surrogate model. Because the surrogate model is an approximation, its prediction has errors. These errors could mislead the decision-making to some suboptimal solutions that are not actually in the Pareto front. This is some price to pay for speeding up the process, but don't worry as we have means to manage these uncertainties and still obtain truly Pareto optimal solutions.\n",
    "\n",
    "There are many surrogate models available in literature. However, we will use Gaussian Process Regression (GPR) as it provides a convenient way to take into account the uncertainty in predictions of the surrogate model, which, as previously said, needs to be managed well.\n",
    "\n",
    "Surrogate-Assisted Multi-Objective Optimisation (SAMOO) follows this general algorithm:\n",
    "1. LHS sampling of initial training dataset and starting population\n",
    "2. Complex model evaluation (hereinafter referred to as Outer Iteration)\n",
    "3. Pareto dominance evaluation\n",
    "     - if front converged: exit; else: continue to step 4\n",
    "4. (Re)training the GPR\n",
    "5. MOO with GPR replacing the complex model (hereinafter referred to as Inner Iterations)\n",
    "6. Resampling for new training points (also called infills)\n",
    "\n",
    "Steps 2-6 are performed iteratively until convergence is achieved in Step 3. "
   ]
  },
  {
   "cell_type": "code",
   "execution_count": 7,
   "id": "0a43a420",
   "metadata": {},
   "outputs": [
    {
     "data": {
      "text/plain": [
       "'c:\\\\Users\\\\rmacasieb\\\\Documents\\\\GitHub\\\\SAMOO_tutorials'"
      ]
     },
     "execution_count": 7,
     "metadata": {},
     "output_type": "execute_result"
    }
   ],
   "source": [
    "##for debugging only of the next codes. TODO: remove this cell later\n",
    "os.getcwd()\n",
    "\n",
    "\n",
    "# os.chdir('../../')"
   ]
  },
  {
   "cell_type": "markdown",
   "id": "5c395ec8",
   "metadata": {},
   "source": [
    "To facilitate this entire process, we will use samoo_utils.py. Let us first prepare our PEST files (control, template, instruction files) to be SAMOO-ready. Let's create a new directory where we will put all our SAMOO-related files and generate an initial training dataset for the surrogate model using Latin hypercube sampling.\n"
   ]
  },
  {
   "cell_type": "code",
   "execution_count": 9,
   "id": "e7d9969f",
   "metadata": {},
   "outputs": [],
   "source": [
    "if os.path.exists(os.path.join(temp_d, 'samoo_runs')):\n",
    "    shutil.rmtree(os.path.join(temp_d, 'samoo_runs'))\n",
    "os.makedirs(os.path.join(temp_d, 'samoo_runs'))\n",
    "shutil.copytree(os.path.join(temp_d, 'fon_samoo_template'), os.path.join(temp_d, 'samoo_runs', 'template'))\n",
    "\n",
    "sys.path.insert(0,temp_d)\n",
    "from samoo_utils import SAMOO\n",
    "optimizer = SAMOO() #load the utility and its default values for now. We modify some args below\n",
    "optimizer.nmax_inner = 20 #the number of inner iterations\n",
    "optimizer.ppd_beta = 0.7 #this is explained later\n",
    "\n",
    "\n",
    "from LHS_sampler import generate_lhstrainingset\n",
    "generate_lhstrainingset(os.path.join(temp_d, 'samoo_runs', 'template'), seed=42, n_samples=swarm_size, n_dimensions=2, bounds=bounds)\n",
    "\n",
    "sys.path.remove(temp_d)"
   ]
  },
  {
   "cell_type": "markdown",
   "id": "566bad53",
   "metadata": {},
   "source": [
    "Let's prepare all template files needed. We will generate three sets of template files:\n",
    "1. template_outer -- for the outer iteration\n",
    "2. template_inner -- for the inner iteration\n",
    "3. template_repo_update -- for updating the outer iteration repository"
   ]
  },
  {
   "cell_type": "code",
   "execution_count": 10,
   "id": "072bd3f7",
   "metadata": {},
   "outputs": [
    {
     "name": "stdout",
     "output_type": "stream",
     "text": [
      "\n",
      "2025-04-10 00:56:52.548208: prepping templates \n",
      "\n",
      "\n",
      "2025-04-10 00:56:52.548208: prepping outer template \n",
      "\n",
      "noptmax:-1, npar_adj:2, nnz_obs:4\n",
      "\n",
      "2025-04-10 00:56:52.629718: outer template prepped \n",
      "\n",
      "\n",
      "2025-04-10 00:56:52.629718: prepping repo update template \n",
      "\n",
      "noptmax:-1, npar_adj:2, nnz_obs:4\n",
      "\n",
      "2025-04-10 00:56:52.712966: outer repo update template prepped \n",
      "\n",
      "\n",
      "2025-04-10 00:56:52.712966: prepping inner template \n",
      "\n",
      "noptmax:20, npar_adj:2, nnz_obs:4\n",
      "\n",
      "2025-04-10 00:56:52.799558: inner template prepped \n",
      "\n"
     ]
    }
   ],
   "source": [
    "os.chdir(os.path.join('fonseca_fleming_demo', 'samoo_runs'))\n",
    "optimizer.prep_templates()"
   ]
  },
  {
   "cell_type": "markdown",
   "id": "5ca1a603",
   "metadata": {},
   "source": [
    "Then, run a sweep of the initial training dataset through the complex model to get the deterministic output with which to train the GPR with.  Result of this will be saved in the directory \"Outer_0\". This is Step 2-3 of the algorithm."
   ]
  },
  {
   "cell_type": "code",
   "execution_count": 11,
   "id": "6379d2dd",
   "metadata": {},
   "outputs": [
    {
     "data": {
      "text/plain": [
       "['outer_0']"
      ]
     },
     "execution_count": 11,
     "metadata": {},
     "output_type": "execute_result"
    }
   ],
   "source": [
    "optimizer.outer_sweep(0)"
   ]
  },
  {
   "cell_type": "code",
   "execution_count": 12,
   "id": "d0e7fcbf",
   "metadata": {},
   "outputs": [
    {
     "data": {
      "image/png": "[encoded data removed]",
      "text/plain": [
       "<Figure size 600x400 with 1 Axes>"
      ]
     },
     "metadata": {},
     "output_type": "display_data"
    },
    {
     "data": {
      "text/plain": [
       "(<Figure size 600x400 with 1 Axes>,\n",
       " <Axes: title={'center': 'Outer-0'}, xlabel='Objective 1', ylabel='Objective 2'>,\n",
       "     generation             member      obj1      obj2  nsga2_front  \\\n",
       " 8            0   gen=0_training=8  0.763268  0.694295            1   \n",
       " 14           0  gen=0_training=14  0.734973  0.997849            1   \n",
       " 17           0  gen=0_training=17  0.586728  0.999791            1   \n",
       " 26           0  gen=0_training=26  0.994430  0.088504            1   \n",
       " \n",
       "     nsga2_crowding_distance  spea2_unconstrained_fitness  \\\n",
       " 8              1.634260e+00                      285.427   \n",
       " 14             7.682480e-01                      267.444   \n",
       " 17             1.000000e+30                      224.425   \n",
       " 26             1.000000e+30                      271.345   \n",
       " \n",
       "     spea2_constrained_fitness  is_feasible  feasible_distance  \n",
       " 8                     285.427            1               -999  \n",
       " 14                    267.444            1               -999  \n",
       " 17                    224.425            1               -999  \n",
       " 26                    271.345            1               -999  )"
      ]
     },
     "execution_count": 12,
     "metadata": {},
     "output_type": "execute_result"
    }
   ],
   "source": [
    "true_pareto = pd.read_csv(os.path.join('..', 'fonseca_fleming_solution_obj.csv'))\n",
    "\n",
    "\n",
    "def plot_outer(outer_dir, fig=None, ax=None, show=True):\n",
    "    if fig is None or ax is None:\n",
    "        fig, ax = plt.subplots(figsize=(6, 4))\n",
    "    \n",
    "    if outer_dir.endswith('_0'):\n",
    "        outer_pareto = pd.read_csv(os.path.join(outer_dir, 'fon.pareto.summary.csv'))\n",
    "    else:\n",
    "        outer_pareto = pd.read_csv(os.path.join(outer_dir, 'outer_repo', 'outer_repo.pareto.summary.csv'))\n",
    "    \n",
    "    outer_pareto = outer_pareto.loc[outer_pareto['nsga2_front'] == 1]\n",
    "    \n",
    "    ax.scatter(outer_pareto['obj1'], outer_pareto['obj2'], c='none', ec='firebrick', s=20, zorder=10, label='Outer repository positions')\n",
    "    ax.scatter(true_pareto['obj1'], true_pareto['obj2'], c='deepskyblue', s=20, label='Pareto optimal solutions')\n",
    "    \n",
    "    ax.set_xlabel('Objective 1')\n",
    "    ax.set_ylabel('Objective 2')\n",
    "    ax.legend()\n",
    "    \n",
    "    ax.set_title(f'Outer-{outer_dir.split(\"_\")[1]}')\n",
    "    if show and fig is not None:\n",
    "        plt.tight_layout()\n",
    "        plt.show()\n",
    "    \n",
    "    return fig, ax, outer_pareto\n",
    "\n",
    "plot_outer('outer_0')\n"
   ]
  },
  {
   "cell_type": "markdown",
   "id": "96d1dee3",
   "metadata": {},
   "source": [
    "Outer-0 produced some non-dominated positions. They are still far from the true Pareto optimal solutions.\n",
    "\n",
    "The input-output pair resulting from such sweep will be used as training dataset to retrain the GPR, which will be needed in the inner iterations. This GPR will be called in the inner iterations instead of the complex model.\n",
    "\n",
    "Let's prepare the GPR training files (Step 4) and proceed with the first inner iteration (Step 5), the output of which will be saved in \"Inner_1\" directory. We will do 20 inner iterations for now."
   ]
  },
  {
   "cell_type": "code",
   "execution_count": 13,
   "id": "56261a79",
   "metadata": {},
   "outputs": [
    {
     "data": {
      "text/plain": [
       "['inner_1']"
      ]
     },
     "execution_count": 13,
     "metadata": {},
     "output_type": "execute_result"
    }
   ],
   "source": [
    "inner_dirs, outer_dirs = optimizer.get_dirlist()\n",
    "optimizer.inner_prep(inner_dirs, outer_dirs) #this will write the training dataset\n",
    "next_inner_index = 1 if len(inner_dirs) == 0 else int(inner_dirs[-1].split(\"_\")[1]) + 1\n",
    "optimizer.inner_opt(next_inner_index) #this execute pestpp-mou that calls on the GPR in the inner iterations"
   ]
  },
  {
   "cell_type": "markdown",
   "id": "54d5cb3c",
   "metadata": {},
   "source": [
    "At this stage the GPR only has very limited knowledge informed only by a sample of 30 points from the decision space and their corresponding deterministic objective function values. Thus, we recognize that GPR emulations are incorrect and these errors should be taken into consideration when evaluating dominance relationships in the inner iterations. SAMOO deals with these uncertainties through \"Probabilistic Pareto Dominance\" or PPD. The basic idea of PPD is that we cannot rule out dominated members to be completely suboptimal, likewise, we cannot trust that non-dominated members are truly Pareto optimal. Thus, if the dominance relationships does not reach our confidence threshold (passed through the ppd_beta argument in the pestpp-mou control file), we can just keep both solution in the 'surrogate repository' for now. As a result, we won't have a Pareto 'front' in the inner iterations but we will have as fuzzy set of solutions all of which could 'probably' be in the true front. We call this the \"Pareto cloud\". The cloudiness of the Pareto cloud is determined by the value of ppd_beta. In our experience, a ppd_beta between 0.5-0.7 generally works well in most cases. In this demo, we are using 0.6.\n",
    "\n",
    "Let's see what the Pareto cloud looks like through the inner iterations."
   ]
  },
  {
   "cell_type": "code",
   "execution_count": 17,
   "id": "b3b0901f",
   "metadata": {},
   "outputs": [
    {
     "name": "stderr",
     "output_type": "stream",
     "text": [
      "<>:27: SyntaxWarning: invalid escape sequence '\\p'\n",
      "<>:27: SyntaxWarning: invalid escape sequence '\\p'\n",
      "C:\\Users\\rmacasieb\\AppData\\Local\\Temp\\ipykernel_6020\\1622525704.py:27: SyntaxWarning: invalid escape sequence '\\p'\n"
     ]
    },
    {
     "data": {
      "application/vnd.jupyter.widget-view+json": {
       "model_id": "d5a316389d3340279b6a80db98d28b03",
       "version_major": 2,
       "version_minor": 0
      },
      "text/plain": [
       "interactive(children=(IntSlider(value=20, continuous_update=False, description='Inner Iteration:', max=20), Ou…"
      ]
     },
     "metadata": {},
     "output_type": "display_data"
    },
    {
     "name": "stderr",
     "output_type": "stream",
     "text": [
      "c:\\Users\\rmacasieb\\AppData\\Local\\anaconda3\\Lib\\site-packages\\ipywidgets\\widgets\\interaction.py:57: DeprecationWarning: `ipykernel.pylab.backend_inline` is deprecated, directly use `matplotlib_inline.backend_inline`\n"
     ]
    }
   ],
   "source": [
    "inner_dirs, outer_dirs = optimizer.get_dirlist()\n",
    "\n",
    "def plot_inner(inner_dir, iteration, ax = None, fig = None, show=True):\n",
    "    if ax is None or fig is None:\n",
    "        fig, ax = plt.subplots(figsize=(6, 4))\n",
    "    \n",
    "    inner_rundata = pd.read_csv(os.path.join(inner_dir, 'fon.pareto.summary.csv'))\n",
    "    a = ax.scatter(true_pareto['obj1'], true_pareto['obj2'], c='deepskyblue', s = 20, label = 'Pareto optimal solutions')\n",
    "\n",
    "    pareto_cloud = inner_rundata.loc[(inner_rundata['generation'] == iteration) & (inner_rundata['nsga2_front'] == 1)]\n",
    "    b = ax.scatter(pareto_cloud['obj1'], pareto_cloud['obj2'], c='none', ec='g', s=30, label='Pareto cloud')\n",
    "\n",
    "    all_dv, all_obs = optimizer.parse_all_io(inner_dir)\n",
    "    pareto_dv = all_dv.loc[all_dv['real_name'].isin(pareto_cloud['member'])]\n",
    "\n",
    "    from matplotlib.patches import Ellipse\n",
    "    from matplotlib.patches import Patch\n",
    "    for mem in pareto_cloud['member']:\n",
    "        o1 = pareto_cloud.loc[pareto_cloud['member'] == mem, 'obj1'].item()\n",
    "        o2 = pareto_cloud.loc[pareto_cloud['member'] == mem, 'obj2'].item()\n",
    "        ellipse_ab = all_obs.loc[all_obs['real_name'] == mem]\n",
    "        o1sd = ellipse_ab['obj1_sd'].item()\n",
    "        o2sd = ellipse_ab['obj2_sd'].item()\n",
    "        ellipse = Ellipse((o1, o2), width=3*o1sd, height=3*o2sd, fc='peachpuff', zorder=-10)\n",
    "        ax.add_artist(ellipse)\n",
    "    \n",
    "    sdpatch = Patch(facecolor='peachpuff', edgecolor='none', label='$\\pm 3$ sd')\n",
    "    ax.legend(handles=[a, b, sdpatch], loc=0)\n",
    "    ax.set_xlabel('Objective 1')\n",
    "    ax.set_ylabel('Objective 2')\n",
    "    ax.set_title(f'Inner-{iteration}')\n",
    "\n",
    "    if show and fig is not None:\n",
    "        plt.tight_layout()\n",
    "        plt.show()\n",
    "\n",
    "    return fig, ax, pareto_dv, pareto_cloud\n",
    "\n",
    "import ipywidgets as widgets\n",
    "\n",
    "def update_plots(iteration):\n",
    "    plt.close('all')\n",
    "    fig, axes = plt.subplots(1, 3, figsize=(18, 5))\n",
    "    \n",
    "    # Plot 1: Pareto Cloud with uncertainty ellipse\n",
    "    _,_,pareto_dv,_ = plot_inner(inner_dirs[-1], iteration, ax = axes[0], fig = fig, show = False)\n",
    "\n",
    "    # Collect data for surface plots\n",
    "    training_dv = pd.read_csv(os.path.join(inner_dirs[-1], 'gp_0.dv_training.csv'))\n",
    "    training_obs = pd.read_csv(os.path.join(inner_dirs[-1], 'gp_0.obs_training.csv'))\n",
    "    training_data = pd.merge(training_dv, training_obs, on='real_name', how='inner')\n",
    "    \n",
    "    x1_train = training_data['x1'].values\n",
    "    x2_train = training_data['x2'].values\n",
    "    obj1_train = training_data['obj1'].values\n",
    "    obj2_train = training_data['obj2'].values\n",
    "    \n",
    "    grid_size = 100\n",
    "    x1_grid = np.linspace(-4, 4, grid_size)\n",
    "    x2_grid = np.linspace(-4, 4, grid_size)\n",
    "    X1, X2 = np.meshgrid(x1_grid, x2_grid)\n",
    "    \n",
    "    from scipy.interpolate import griddata\n",
    "    Z1 = griddata((x1_train, x2_train), obj1_train, (X1, X2), method='cubic')\n",
    "    Z2 = griddata((x1_train, x2_train), obj2_train, (X1, X2), method='cubic')\n",
    "    \n",
    "    # Plot 2: Objective 1 Surface\n",
    "    im1 = axes[1].contourf(X1, X2, Z1, cmap='plasma', levels=20)\n",
    "    plt.colorbar(im1, ax=axes[1], label='Objective 1')\n",
    "    axes[1].scatter(x1_train, x2_train, c='grey', ec='none', s=20, alpha=0.5, label='training points')\n",
    "    axes[1].scatter(pareto_dv['x1'], pareto_dv['x2'], c='none', ec='g', s=30, label='dv of Pareto cloud')\n",
    "    axes[1].set_xlabel('x1')\n",
    "    axes[1].set_ylabel('x2')\n",
    "    axes[1].set_title('Objective 1 Surface in Decision Space')\n",
    "    axes[1].legend()\n",
    "    \n",
    "    # Plot 3: Objective 2 Surface\n",
    "    im2 = axes[2].contourf(X1, X2, Z2, cmap='plasma', levels=20)\n",
    "    plt.colorbar(im2, ax=axes[2], label='Objective 2')\n",
    "    axes[2].scatter(x1_train, x2_train, c='grey', ec='none', s=20, alpha=0.5, label='training points')\n",
    "    axes[2].scatter(pareto_dv['x1'], pareto_dv['x2'], c='none', ec='g', s=30, label='dv of Pareto cloud')\n",
    "    axes[2].set_xlabel('x1')\n",
    "    axes[2].set_ylabel('x2')\n",
    "    axes[2].set_title('Objective 2 Surface in Decision Space')\n",
    "    axes[2].legend()\n",
    "    \n",
    "    plt.tight_layout()\n",
    "    plt.show()\n",
    "\n",
    "slider = widgets.IntSlider(\n",
    "    value=optimizer.nmax_inner,\n",
    "    min=0,\n",
    "    max=optimizer.nmax_inner,\n",
    "    step=1,\n",
    "    description='Inner Iteration:',\n",
    "    continuous_update=False\n",
    ")\n",
    "widgets.interactive(update_plots, iteration=slider)\n"
   ]
  },
  {
   "cell_type": "markdown",
   "id": "d5f907fd",
   "metadata": {},
   "source": [
    "Notice how the confidence ellipsoids of the Pareto cloud positions overlap significantly. If we simply follow the conventional Pareto dominance sorting, many of these positions would be dominated and discarded even if they may potentially be non-dominated considering their uncertainty. How many of these do you think will dominate those that are already in the repository from Outer-0?\n",
    "\n",
    "Also observe that the Pareto cloud cannot get close any further to the true Pareto front. This is a result of the limited knowledge of the GPR at this stage. We must therefore retrain the GPR to improve its prediction. The Pareto cloud contains the most informative solutions that, once evaluated through the complex model, are either nearly or already truly Pareto optimal solutions. We can therefore sample the Pareto cloud for decision variable values that are worth evaluating in the expensive complex model (also known as the infill points), which will then be added to the existing knowledge base (i.e., the training dataset) of the GPR and retrain the GPR with this updated information.\n",
    "\n",
    "Let's proceed with sampling this Pareto cloud for 30 infills -- this is Step 6 of the algorithm."
   ]
  },
  {
   "cell_type": "code",
   "execution_count": null,
   "id": "8c5c40a5",
   "metadata": {},
   "outputs": [],
   "source": [
    "inner_dirs, outer_dirs = optimizer.get_dirlist()\n",
    "optimizer.max_infill = swarm_size\n",
    "optimizer.resample(inner_dirs, outer_dirs)"
   ]
  },
  {
   "cell_type": "markdown",
   "id": "f58c436a",
   "metadata": {},
   "source": [
    "We go back to Step 2-3 -- evaluate these infills through the complex model, which will be the Outer-1, and perform dominance evaluation of Pareto optimal solutions obtained in Outer-0 and Outer-1."
   ]
  },
  {
   "cell_type": "code",
   "execution_count": 15,
   "id": "041c2104",
   "metadata": {},
   "outputs": [],
   "source": [
    "outer_dirs = optimizer.outer_sweep(1)\n",
    "optimizer.update_outer_repo(outer_dirs)"
   ]
  },
  {
   "cell_type": "markdown",
   "id": "d6dd0f69",
   "metadata": {},
   "source": [
    "Did we make some progress in finding better solutions than those currently in the repository from Outer-0?"
   ]
  },
  {
   "cell_type": "code",
   "execution_count": null,
   "id": "8aaafcf3",
   "metadata": {},
   "outputs": [],
   "source": [
    "inner_dirs, outer_dirs = optimizer.get_dirlist()\n",
    "\n",
    "def plot_comparison(outer_selection):\n",
    "    fig, axes = plt.subplots(1, 2, figsize=(12, 5))\n",
    "    \n",
    "    if outer_selection == 'outer_0':\n",
    "        plot_outer('outer_0', ax=axes[1], fig=fig, show=False)\n",
    "        axes[0].set_title(\"No inner plot\")\n",
    "        axes[0].set_xlabel(\"Objective 1\")\n",
    "        axes[0].set_ylabel(\"Objective 2\")\n",
    "    else:\n",
    "        outer_num = outer_selection.split('_')[1]\n",
    "        matching_inner_dir = next((inner_dir for inner_dir in inner_dirs if inner_dir.endswith(f\"_{outer_num}\")), inner_dirs[-1])\n",
    "        _,_,_,pareto_cloud = plot_inner(matching_inner_dir, optimizer.nmax_inner, ax=axes[0], fig=fig, show=False)\n",
    "        _,_,outer_pareto = plot_outer(outer_selection, ax=axes[1], fig=fig, show=False)\n",
    "        \n",
    "        successful_infill = pareto_cloud.loc[pareto_cloud['member'].isin(outer_pareto['member'])]\n",
    "        axes[0].scatter(successful_infill['obj1'], successful_infill['obj2'], \n",
    "                       c='firebrick', ec='none', s=30, label='successful infill')\n",
    "        axes[0].legend()\n",
    "    \n",
    "    plt.tight_layout()\n",
    "    return fig\n",
    "\n",
    "outer_dropdown = widgets.Dropdown(\n",
    "    options=outer_dirs,\n",
    "    value='outer_1',\n",
    "    description='Outer Iteration:',\n",
    "    disabled=False\n",
    ")\n",
    "\n",
    "# Display the interactive plot\n",
    "widgets.interactive(plot_comparison, outer_selection=outer_dropdown)"
   ]
  },
  {
   "cell_type": "markdown",
   "id": "7fe3785a",
   "metadata": {},
   "source": [
    "That's definitely a lot of progress there as many of the infills selected are actually sitting at the true front even though the GPR prediction was incorrect. Also notice that some of the successful infill would have been discarded if we used the conventional Pareto dominance sorting and treat the GPR predicted positions as deterministic. We would have missed out really informative positions.\n",
    "\n",
    "Let's do 3 more outer iterations"
   ]
  },
  {
   "cell_type": "code",
   "execution_count": null,
   "id": "5ba95246",
   "metadata": {},
   "outputs": [],
   "source": [
    "optimizer.restart = True #we will pickup from where we left off at Outer-1\n",
    "optimizer.nmax_outer = 3 #3 more outer iterations\n",
    "optimizer.run() #run the whole SAMOO process outlined above"
   ]
  },
  {
   "cell_type": "code",
   "execution_count": null,
   "id": "98c7750a",
   "metadata": {},
   "outputs": [],
   "source": [
    "inner_dirs, outer_dirs = optimizer.get_dirlist()\n",
    "\n",
    "outer_dropdown = widgets.Dropdown(\n",
    "    options=outer_dirs,\n",
    "    value=outer_dirs[-1],\n",
    "    description='Outer Iteration:',\n",
    "    disabled=False\n",
    ")\n",
    "\n",
    "# Display the interactive plot\n",
    "widgets.interactive(plot_comparison, outer_selection=outer_dropdown)"
   ]
  }
 ],
 "metadata": {
  "kernelspec": {
   "display_name": "base",
   "language": "python",
   "name": "python3"
  },
  "language_info": {
   "codemirror_mode": {
    "name": "ipython",
    "version": 3
   },
   "file_extension": ".py",
   "mimetype": "text/x-python",
   "name": "python",
   "nbconvert_exporter": "python",
   "pygments_lexer": "ipython3",
   "version": "3.12.4"
  }
 },
 "nbformat": 4,
 "nbformat_minor": 5
}
