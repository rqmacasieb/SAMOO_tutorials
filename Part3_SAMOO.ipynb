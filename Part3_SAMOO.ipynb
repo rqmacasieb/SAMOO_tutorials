{
 "cells": [
  {
   "cell_type": "markdown",
   "id": "984af293",
   "metadata": {},
   "source": [
    "# A walkthrough of Surrogate-Assisted Multi-Objective Optimisation (SAMOO)\n",
    "\n",
    "Now that we know how to assess non-dominance of uncertain objective positions due to emulation errors, we can now effectively use surrogate models without compromising the reliability of solutions.\n",
    "\n",
    "For this tutorial, we will still be using the modified Kursawe problem. We need some directories generated in Part 2, so if you have not done so, finish Part 2 and come back here later."
   ]
  },
  {
   "cell_type": "code",
   "execution_count": 1,
   "id": "da493aaa",
   "metadata": {},
   "outputs": [],
   "source": [
    "import os\n",
    "import sys\n",
    "import shutil\n",
    "import pandas as pd\n",
    "import numpy as np\n",
    "import matplotlib.pyplot as plt\n",
    "import laGPy as gpr"
   ]
  },
  {
   "cell_type": "code",
   "execution_count": 2,
   "id": "bd0c09f0",
   "metadata": {},
   "outputs": [],
   "source": [
    "def kursawe_2d(x):\n",
    "    x = np.array(x)\n",
    "    obj1 = -10 * np.exp(-0.2 * np.sqrt(x[0]**2 + x[1]**2))\n",
    "    obj2 = np.abs(x[0])**0.8 + 5 * np.sin(x[0]**3) + np.abs(x[1])**0.8 + 5 * np.sin(x[1]**3)\n",
    "    return obj1, obj2\n",
    "\n",
    "def emulate_obj(Xref, X, Z1, Z2):\n",
    "    obj1 = gpr.laGP(Xref=Xref, X=X, Z=Z1, start = 6, end = 10, verb=0)\n",
    "    obj2 = gpr.laGP(Xref=Xref, X=X, Z=Z2, start = 6, end = 10, verb=0)\n",
    "    return obj1, obj2\n",
    "\n",
    "n_samples = 100\n",
    "x1_range = np.linspace(-5, 5, int(np.sqrt(n_samples)))\n",
    "x2_range = np.linspace(-5, 5, int(np.sqrt(n_samples)))\n",
    "x1, x2 = np.meshgrid(x1_range, x2_range)\n",
    "x1 = x1.flatten()\n",
    "x2 = x2.flatten()\n",
    "\n",
    "x1 = x1[:n_samples]\n",
    "x2 = x2[:n_samples]\n",
    "\n",
    "n_actual = min(len(x1), len(x2))\n",
    "objectives = np.array([kursawe_2d([x1[i], x2[i]]) for i in range(n_actual)])\n",
    "obj1 = objectives[:, 0]\n",
    "obj2 = objectives[:, 1]"
   ]
  },
  {
   "cell_type": "markdown",
   "id": "7dff5d40",
   "metadata": {},
   "source": [
    "As this benchmark is not too complex, it doesn't take much time to complete one iteration and it doesn't take a lot of iteration to obtain a set of Pareto optimal solutions (if you haven't done so yet, finish Part 2 first). However, in reality, real-world models do not run this fast. Even with parallelisation, it can take a few hundred, even thousand iterations until the swarm converges to the Pareto front. If important timely decisions rely on the outcome of such optimisation process, we would need some help to speed up this process. \n",
    "\n",
    "Let's pretend for a while that the Kursawe problem is a complex model that is expensive to evaluate. There's nothing we could do about the run time of the complex model. What we can do though is to employ an \"emulator\", a faster and cheaper model that approximates the relationships between the known (i.e., previously evaluated) input and outputs of the complex model in order to predict its response to some input values that were not previously evaluated. This emulator is also known as the surrogate model. Because the surrogate model is an approximation, its prediction has errors. These errors could mislead the decision-making to some suboptimal solutions that are not actually in the Pareto front. This is some price to pay for speeding up the process, but don't worry as we have means to manage these uncertainties and still obtain truly Pareto optimal solutions.\n",
    "\n",
    "There are many surrogate models available in literature. However, we will use Gaussian Process Regression (GPR) as it provides a convenient way to take into account the uncertainty in predictions of the surrogate model, which, as previously said, needs to be managed well.\n",
    "\n",
    "Surrogate-Assisted Multi-Objective Optimisation (SAMOO) follows this general algorithm:\n",
    "1. LHS sampling of initial training dataset and starting population\n",
    "2. Complex model evaluation (hereinafter referred to as Outer Iteration)\n",
    "3. Pareto dominance evaluation\n",
    "     - if front converged: exit; else: continue to step 4\n",
    "4. (Re)training the GPR\n",
    "5. MOO with GPR replacing the complex model (hereinafter referred to as Inner Iterations)\n",
    "6. Resampling for new training points (also called infills)\n",
    "\n",
    "Steps 2-6 are performed iteratively until convergence is achieved in Step 3. "
   ]
  },
  {
   "cell_type": "markdown",
   "id": "5c395ec8",
   "metadata": {},
   "source": [
    "To facilitate this entire process, we will use samoo_utils.py. Let us first prepare our PEST files (control, template, instruction files) to be SAMOO-ready. Let's create a new directory where we will put all our SAMOO-related files and generate an initial training dataset for the surrogate model using Latin hypercube sampling.\n"
   ]
  },
  {
   "cell_type": "code",
   "execution_count": 3,
   "id": "e7d9969f",
   "metadata": {},
   "outputs": [],
   "source": [
    "base_d = \"./demo_files/kursawe2d\"\n",
    "assert os.path.exists(base_d)\n",
    "temp_d = \"kursawe2d_demo\"\n",
    "\n",
    "if os.path.exists(os.path.join(temp_d, 'samoo_runs')):\n",
    "    shutil.rmtree(os.path.join(temp_d, 'samoo_runs'))\n",
    "os.makedirs(os.path.join(temp_d, 'samoo_runs'))\n",
    "shutil.copytree(os.path.join(temp_d, 'kursawe2d_samoo_template'), os.path.join(temp_d, 'samoo_runs', 'template'))\n",
    "\n",
    "sys.path.insert(0,temp_d)\n",
    "from bin.samoo_utils import SAMOO\n",
    "optimizer = SAMOO() #load the utility and its default values for now. We modify some args below\n",
    "optimizer.nmax_inner = 20 #the number of inner iterations\n",
    "optimizer.ppd_beta = 0.6 #discussed in Part 2\n",
    "\n",
    "swarm_size = 40\n",
    "bounds = np.array([[-5, 5] for i in range(2)])\n",
    "from bin.LHS_sampler import generate_lhstrainingset\n",
    "generate_lhstrainingset(os.path.join(temp_d, 'samoo_runs', 'template'), seed=42, n_samples=swarm_size, n_dimensions=2, bounds=bounds)\n",
    "\n",
    "sys.path.remove(temp_d)"
   ]
  },
  {
   "cell_type": "markdown",
   "id": "566bad53",
   "metadata": {},
   "source": [
    "Let's prepare all template files needed. We will generate three sets of template files:\n",
    "1. template_outer -- for the outer iteration\n",
    "2. template_inner -- for the inner iteration\n",
    "3. template_repo_update -- for updating the outer iteration repository"
   ]
  },
  {
   "cell_type": "code",
   "execution_count": 4,
   "id": "072bd3f7",
   "metadata": {},
   "outputs": [
    {
     "name": "stdout",
     "output_type": "stream",
     "text": [
      "\n",
      "2025-05-16 13:58:17.971722: prepping templates \n",
      "\n",
      "\n",
      "2025-05-16 13:58:17.972721: prepping outer template \n",
      "\n",
      "noptmax:-1, npar_adj:2, nnz_obs:4\n",
      "\n",
      "2025-05-16 13:58:18.097115: outer template prepped \n",
      "\n",
      "\n",
      "2025-05-16 13:58:18.097115: prepping repo update template \n",
      "\n",
      "noptmax:-1, npar_adj:2, nnz_obs:4\n",
      "\n",
      "2025-05-16 13:58:18.231750: outer repo update template prepped \n",
      "\n",
      "\n",
      "2025-05-16 13:58:18.231750: prepping inner template \n",
      "\n",
      "noptmax:20, npar_adj:2, nnz_obs:4\n",
      "\n",
      "2025-05-16 13:58:18.338920: inner template prepped \n",
      "\n"
     ]
    }
   ],
   "source": [
    "os.chdir(os.path.join('kursawe2d_demo', 'samoo_runs'))\n",
    "optimizer.prep_templates()"
   ]
  },
  {
   "cell_type": "markdown",
   "id": "5ca1a603",
   "metadata": {},
   "source": [
    "Then, run a sweep of the initial training dataset through the complex model to get the deterministic output with which to train the GPR with.  Result of this will be saved in the directory \"Outer_0\". This is Step 2-3 of the algorithm."
   ]
  },
  {
   "cell_type": "code",
   "execution_count": 5,
   "id": "6379d2dd",
   "metadata": {},
   "outputs": [
    {
     "data": {
      "text/plain": [
       "['outer_0']"
      ]
     },
     "execution_count": 5,
     "metadata": {},
     "output_type": "execute_result"
    }
   ],
   "source": [
    "optimizer.exe_file = '../../../bin/pestpp-mou'\n",
    "optimizer.outer_sweep(0)"
   ]
  },
  {
   "cell_type": "code",
   "execution_count": 6,
   "id": "d0e7fcbf",
   "metadata": {},
   "outputs": [
    {
     "data": {
      "image/png": "[encoded data removed]",
      "text/plain": [
       "<Figure size 600x400 with 1 Axes>"
      ]
     },
     "metadata": {},
     "output_type": "display_data"
    },
    {
     "data": {
      "text/plain": [
       "(<Figure size 600x400 with 1 Axes>,\n",
       " <Axes: title={'center': 'Outer-0'}, xlabel='Objective 1', ylabel='Objective 2'>,\n",
       "     generation             member     obj1      obj2  nsga2_front  \\\n",
       " 7            0   gen=0_training=7 -9.36162  0.474329            1   \n",
       " 8            0   gen=0_training=8 -5.91507 -0.560988            1   \n",
       " 11           0  gen=0_training=11 -5.73416 -1.010610            1   \n",
       " \n",
       "     nsga2_crowding_distance  spea2_unconstrained_fitness  \\\n",
       " 7              1.000000e+30                      111.157   \n",
       " 8              2.000000e+00                      106.179   \n",
       " 11             1.000000e+30                      109.169   \n",
       " \n",
       "     spea2_constrained_fitness  is_feasible  feasible_distance  \n",
       " 7                     111.157            1               -999  \n",
       " 8                     106.179            1               -999  \n",
       " 11                    109.169            1               -999  )"
      ]
     },
     "execution_count": 6,
     "metadata": {},
     "output_type": "execute_result"
    }
   ],
   "source": [
    "true_pareto = pd.read_csv(os.path.join('..', 'kursawe2d_solution_obj.csv'))\n",
    "\n",
    "def plot_outer(outer_dir, fig=None, ax=None, show=True):\n",
    "    if fig is None or ax is None:\n",
    "        fig, ax = plt.subplots(figsize=(6, 4))\n",
    "    \n",
    "    if outer_dir.endswith('_0'):\n",
    "        outer_pareto = pd.read_csv(os.path.join(outer_dir, 'kur.pareto.summary.csv'))\n",
    "    else:\n",
    "        outer_pareto = pd.read_csv(os.path.join(outer_dir, 'outer_repo', 'outer_repo.pareto.summary.csv'))\n",
    "    \n",
    "    outer_pareto = outer_pareto.loc[outer_pareto['nsga2_front'] == 1]\n",
    "    \n",
    "    ax.scatter(outer_pareto['obj1'], outer_pareto['obj2'], c='none', ec='firebrick', s=20, zorder=10, label='Outer repository positions')\n",
    "    ax.scatter(true_pareto['obj1'], true_pareto['obj2'], c='deepskyblue', s=20, label='Pareto optimal solutions')\n",
    "    \n",
    "    ax.set_xlabel('Objective 1')\n",
    "    ax.set_ylabel('Objective 2')\n",
    "    ax.legend()\n",
    "    \n",
    "    ax.set_title(f'Outer-{outer_dir.split(\"_\")[1]}')\n",
    "    if show and fig is not None:\n",
    "        plt.tight_layout()\n",
    "        plt.show()\n",
    "    \n",
    "    return fig, ax, outer_pareto\n",
    "\n",
    "plot_outer('outer_0')\n"
   ]
  },
  {
   "cell_type": "markdown",
   "id": "96d1dee3",
   "metadata": {},
   "source": [
    "Outer-0 produced some non-dominated positions. They are still far from the true Pareto optimal solutions.\n",
    "\n",
    "The input-output pair resulting from such sweep will be used as training dataset to retrain the GPR, which will be needed in the inner iterations. This GPR will be called in the inner iterations instead of the complex model.\n",
    "\n",
    "Let's prepare the GPR training files (Step 4) and proceed with the first inner iteration (Step 5), the output of which will be saved in \"Inner_1\" directory. We will do 20 inner iterations for now."
   ]
  },
  {
   "cell_type": "code",
   "execution_count": 7,
   "id": "56261a79",
   "metadata": {},
   "outputs": [
    {
     "data": {
      "text/plain": [
       "['inner_1']"
      ]
     },
     "execution_count": 7,
     "metadata": {},
     "output_type": "execute_result"
    }
   ],
   "source": [
    "inner_dirs, outer_dirs = optimizer.get_dirlist()\n",
    "optimizer.inner_prep(inner_dirs, outer_dirs) #this will write the training dataset\n",
    "next_inner_index = 1 if len(inner_dirs) == 0 else int(inner_dirs[-1].split(\"_\")[1]) + 1\n",
    "optimizer.inner_opt(next_inner_index) #this executes pestpp-mou that calls on the GPR in the inner iterations"
   ]
  },
  {
   "cell_type": "markdown",
   "id": "54d5cb3c",
   "metadata": {},
   "source": [
    "At this stage the GPR only has very limited knowledge informed only by a sample of 40 points from the decision space and their corresponding deterministic objective function values. Thus, we recognize that GPR emulations are incorrect and these errors should be taken into consideration when evaluating dominance relationships in the inner iterations. As discussed in Part 2, SAMOO deals with these uncertainties through PPD. The basic idea of PPD is that we cannot rule out dominated members to be completely suboptimal, likewise, we cannot trust that non-dominated members are truly Pareto optimal. Thus, if the dominance relationships does not reach our confidence threshold (passed through the ppd_beta argument in the pestpp-mou control file), we can just keep both solution in the 'surrogate repository' for now. As a result, we won't have a Pareto 'front' in the inner iterations but we will have as fuzzy set of solutions all of which could 'probably' be in the true front. We call this the \"Pareto cloud\". The cloudiness of the Pareto cloud is determined by the value of ppd_beta. In our experience, a ppd_beta between 0.5-0.7 generally works well in most cases. In this demo, we are using 0.6.\n",
    "\n",
    "Let's see what the Pareto cloud looks like through the inner iterations."
   ]
  },
  {
   "cell_type": "code",
   "execution_count": 8,
   "id": "b3b0901f",
   "metadata": {},
   "outputs": [
    {
     "name": "stderr",
     "output_type": "stream",
     "text": [
      "<>:27: DeprecationWarning: invalid escape sequence '\\p'\n",
      "<>:27: DeprecationWarning: invalid escape sequence '\\p'\n",
      "C:\\Users\\mac732\\AppData\\Local\\Temp\\ipykernel_31020\\862283210.py:27: DeprecationWarning: invalid escape sequence '\\p'\n",
      "c:\\Users\\mac732\\AppData\\Local\\anaconda3\\Lib\\site-packages\\ipywidgets\\widgets\\interaction.py:44: DeprecationWarning: `ipykernel.pylab.backend_inline` is deprecated, directly use `matplotlib_inline.backend_inline`\n"
     ]
    },
    {
     "data": {
      "application/vnd.jupyter.widget-view+json": {
       "model_id": "baed30a0806f4fd3939d44144fa70339",
       "version_major": 2,
       "version_minor": 0
      },
      "text/plain": [
       "interactive(children=(IntSlider(value=20, continuous_update=False, description='Inner Iteration:', max=20), Ou…"
      ]
     },
     "execution_count": 8,
     "metadata": {},
     "output_type": "execute_result"
    }
   ],
   "source": [
    "inner_dirs, outer_dirs = optimizer.get_dirlist()\n",
    "\n",
    "def plot_inner(inner_dir, iteration, ax = None, fig = None, show=True):\n",
    "    if ax is None or fig is None:\n",
    "        fig, ax = plt.subplots(figsize=(6, 4))\n",
    "    \n",
    "    inner_rundata = pd.read_csv(os.path.join(inner_dir, 'kur.pareto.summary.csv'))\n",
    "    a = ax.scatter(true_pareto['obj1'], true_pareto['obj2'], c='deepskyblue', s = 20, label = 'Pareto optimal solutions')\n",
    "\n",
    "    pareto_cloud = inner_rundata.loc[(inner_rundata['generation'] == iteration) & (inner_rundata['nsga2_front'] == 1)]\n",
    "    b = ax.scatter(pareto_cloud['obj1'], pareto_cloud['obj2'], c='none', ec='g', s=30, label='Pareto cloud')\n",
    "\n",
    "    all_dv, all_obs = optimizer.parse_all_io(inner_dir)\n",
    "    pareto_dv = all_dv.loc[all_dv['real_name'].isin(pareto_cloud['member'])]\n",
    "\n",
    "    from matplotlib.patches import Ellipse\n",
    "    from matplotlib.patches import Patch\n",
    "    for mem in pareto_cloud['member']:\n",
    "        o1 = pareto_cloud.loc[pareto_cloud['member'] == mem, 'obj1'].item()\n",
    "        o2 = pareto_cloud.loc[pareto_cloud['member'] == mem, 'obj2'].item()\n",
    "        ellipse_ab = all_obs.loc[all_obs['real_name'] == mem]\n",
    "        o1sd = ellipse_ab['obj1_sd'].item()\n",
    "        o2sd = ellipse_ab['obj2_sd'].item()\n",
    "        ellipse = Ellipse((o1, o2), width=3*o1sd, height=3*o2sd, fc='peachpuff', zorder=-10)\n",
    "        ax.add_artist(ellipse)\n",
    "    \n",
    "    sdpatch = Patch(facecolor='peachpuff', edgecolor='none', label='$\\pm 3$ sd')\n",
    "    ax.legend(handles=[a, b, sdpatch], loc=0)\n",
    "    ax.set_xlabel('Objective 1')\n",
    "    ax.set_ylabel('Objective 2')\n",
    "    ax.set_title(f'Inner-{iteration}')\n",
    "\n",
    "    if show and fig is not None:\n",
    "        plt.tight_layout()\n",
    "        plt.show()\n",
    "\n",
    "    return fig, ax, pareto_dv, pareto_cloud\n",
    "\n",
    "import ipywidgets as widgets\n",
    "\n",
    "def update_plots(iteration):\n",
    "    plt.close('all')\n",
    "    plt.figure(figsize=(18, 5))\n",
    "    \n",
    "    _,_,pareto_dv,_ = plot_inner(inner_dirs[-1], iteration, show = False)\n",
    "\n",
    "    plt.tight_layout()\n",
    "    plt.show()\n",
    "\n",
    "slider = widgets.IntSlider(\n",
    "    value=optimizer.nmax_inner,\n",
    "    min=0,\n",
    "    max=optimizer.nmax_inner,\n",
    "    step=1,\n",
    "    description='Inner Iteration:',\n",
    "    continuous_update=False\n",
    ")\n",
    "widgets.interactive(update_plots, iteration=slider)\n"
   ]
  },
  {
   "cell_type": "markdown",
   "id": "d5f907fd",
   "metadata": {},
   "source": [
    "Notice how the confidence ellipsoids of the Pareto cloud positions overlap significantly. If we simply follow the conventional Pareto dominance sorting, many of these positions would be dominated and discarded even if they may potentially be non-dominated considering their uncertainty. How many of these do you think will dominate those that are already in the repository from Outer-0?\n",
    "\n",
    "Also observe that the Pareto cloud cannot get close any further to the true Pareto front. This is a result of the limited knowledge of the GPR at this stage. We must therefore retrain the GPR to improve its prediction. The Pareto cloud contains the most informative solutions that, once evaluated through the complex model, are either nearly or already truly Pareto optimal solutions. We can therefore sample the Pareto cloud for decision variable values that are worth evaluating in the expensive complex model (also known as the infill points), which will then be added to the existing knowledge base (i.e., the training dataset) of the GPR and retrain the GPR with this updated information.\n",
    "\n",
    "Let's proceed with sampling this Pareto cloud for 40 infills -- this is Step 6 of the algorithm."
   ]
  },
  {
   "cell_type": "code",
   "execution_count": 9,
   "id": "8c5c40a5",
   "metadata": {},
   "outputs": [
    {
     "name": "stdout",
     "output_type": "stream",
     "text": [
      "\n",
      "2025-05-16 13:59:24.021722: infill ensemble saved \n",
      "\n"
     ]
    }
   ],
   "source": [
    "inner_dirs, outer_dirs = optimizer.get_dirlist()\n",
    "optimizer.max_infill = swarm_size\n",
    "optimizer.resample(inner_dirs, outer_dirs)"
   ]
  },
  {
   "cell_type": "markdown",
   "id": "f58c436a",
   "metadata": {},
   "source": [
    "We go back to Step 2-3 -- evaluate these infills through the complex model, which will be the Outer-1, and perform dominance evaluation of Pareto optimal solutions obtained in Outer-0 and Outer-1."
   ]
  },
  {
   "cell_type": "code",
   "execution_count": 10,
   "id": "041c2104",
   "metadata": {},
   "outputs": [
    {
     "ename": "PermissionError",
     "evalue": "[WinError 5] Access is denied: 'temp'",
     "output_type": "error",
     "traceback": [
      "\u001b[1;31m---------------------------------------------------------------------------\u001b[0m",
      "\u001b[1;31mPermissionError\u001b[0m                           Traceback (most recent call last)",
      "Cell \u001b[1;32mIn[10], line 2\u001b[0m\n\u001b[0;32m      1\u001b[0m outer_dirs \u001b[38;5;241m=\u001b[39m optimizer\u001b[38;5;241m.\u001b[39mouter_sweep(\u001b[38;5;241m1\u001b[39m)\n\u001b[1;32m----> 2\u001b[0m optimizer\u001b[38;5;241m.\u001b[39mupdate_outer_repo(outer_dirs)\n",
      "File \u001b[1;32mc:\\Users\\mac732\\OneDrive - CSIRO\\Documents\\GitHub\\SAMOO_tutorials\\bin\\samoo_utils.py:181\u001b[0m, in \u001b[0;36mSAMOO.update_outer_repo\u001b[1;34m(self, outer_dirs)\u001b[0m\n\u001b[0;32m    178\u001b[0m     shutil\u001b[38;5;241m.\u001b[39mcopy(name, subdir)\n\u001b[0;32m    180\u001b[0m \u001b[38;5;66;03m#clean up temp directory\u001b[39;00m\n\u001b[1;32m--> 181\u001b[0m shutil\u001b[38;5;241m.\u001b[39mrmtree(\u001b[38;5;124m\"\u001b[39m\u001b[38;5;124mtemp\u001b[39m\u001b[38;5;124m\"\u001b[39m)\n",
      "File \u001b[1;32mc:\\Users\\mac732\\AppData\\Local\\anaconda3\\Lib\\shutil.py:759\u001b[0m, in \u001b[0;36mrmtree\u001b[1;34m(path, ignore_errors, onerror, dir_fd)\u001b[0m\n\u001b[0;32m    757\u001b[0m     \u001b[38;5;66;03m# can't continue even if onerror hook returns\u001b[39;00m\n\u001b[0;32m    758\u001b[0m     \u001b[38;5;28;01mreturn\u001b[39;00m\n\u001b[1;32m--> 759\u001b[0m \u001b[38;5;28;01mreturn\u001b[39;00m _rmtree_unsafe(path, onerror)\n",
      "File \u001b[1;32mc:\\Users\\mac732\\AppData\\Local\\anaconda3\\Lib\\shutil.py:626\u001b[0m, in \u001b[0;36m_rmtree_unsafe\u001b[1;34m(path, onerror)\u001b[0m\n\u001b[0;32m    624\u001b[0m     os\u001b[38;5;241m.\u001b[39mrmdir(path)\n\u001b[0;32m    625\u001b[0m \u001b[38;5;28;01mexcept\u001b[39;00m \u001b[38;5;167;01mOSError\u001b[39;00m:\n\u001b[1;32m--> 626\u001b[0m     onerror(os\u001b[38;5;241m.\u001b[39mrmdir, path, sys\u001b[38;5;241m.\u001b[39mexc_info())\n",
      "File \u001b[1;32mc:\\Users\\mac732\\AppData\\Local\\anaconda3\\Lib\\shutil.py:624\u001b[0m, in \u001b[0;36m_rmtree_unsafe\u001b[1;34m(path, onerror)\u001b[0m\n\u001b[0;32m    622\u001b[0m             onerror(os\u001b[38;5;241m.\u001b[39munlink, fullname, sys\u001b[38;5;241m.\u001b[39mexc_info())\n\u001b[0;32m    623\u001b[0m \u001b[38;5;28;01mtry\u001b[39;00m:\n\u001b[1;32m--> 624\u001b[0m     os\u001b[38;5;241m.\u001b[39mrmdir(path)\n\u001b[0;32m    625\u001b[0m \u001b[38;5;28;01mexcept\u001b[39;00m \u001b[38;5;167;01mOSError\u001b[39;00m:\n\u001b[0;32m    626\u001b[0m     onerror(os\u001b[38;5;241m.\u001b[39mrmdir, path, sys\u001b[38;5;241m.\u001b[39mexc_info())\n",
      "\u001b[1;31mPermissionError\u001b[0m: [WinError 5] Access is denied: 'temp'"
     ]
    }
   ],
   "source": [
    "outer_dirs = optimizer.outer_sweep(1)\n",
    "optimizer.update_outer_repo(outer_dirs)"
   ]
  },
  {
   "cell_type": "markdown",
   "id": "d6dd0f69",
   "metadata": {},
   "source": [
    "Did we make some progress in finding better solutions than those currently in the repository from Outer-0?"
   ]
  },
  {
   "cell_type": "code",
   "execution_count": null,
   "id": "8aaafcf3",
   "metadata": {},
   "outputs": [],
   "source": [
    "inner_dirs, outer_dirs = optimizer.get_dirlist()\n",
    "\n",
    "def plot_comparison(outer_selection):\n",
    "    fig, axes = plt.subplots(1, 2, figsize=(12, 5))\n",
    "    \n",
    "    if outer_selection == 'outer_0':\n",
    "        plot_outer('outer_0', ax=axes[1], fig=fig, show=False)\n",
    "        axes[0].set_title(\"No inner plot\")\n",
    "        axes[0].set_xlabel(\"Objective 1\")\n",
    "        axes[0].set_ylabel(\"Objective 2\")\n",
    "    else:\n",
    "        outer_num = outer_selection.split('_')[1]\n",
    "        matching_inner_dir = next((inner_dir for inner_dir in inner_dirs if inner_dir.endswith(f\"_{outer_num}\")), inner_dirs[-1])\n",
    "        _,_,_,pareto_cloud = plot_inner(matching_inner_dir, optimizer.nmax_inner, ax=axes[0], fig=fig, show=False)\n",
    "        _,_,outer_pareto = plot_outer(outer_selection, ax=axes[1], fig=fig, show=False)\n",
    "        \n",
    "        successful_infill = pareto_cloud.loc[pareto_cloud['member'].isin(outer_pareto['member'])]\n",
    "        axes[0].scatter(successful_infill['obj1'], successful_infill['obj2'], \n",
    "                       c='firebrick', ec='none', s=30, label='successful infill')\n",
    "        axes[0].legend()\n",
    "    \n",
    "    plt.tight_layout()\n",
    "    return fig\n",
    "\n",
    "outer_dropdown = widgets.Dropdown(\n",
    "    options=outer_dirs,\n",
    "    value='outer_1',\n",
    "    description='Outer Iteration:',\n",
    "    disabled=False\n",
    ")\n",
    "\n",
    "# Display the interactive plot\n",
    "widgets.interactive(plot_comparison, outer_selection=outer_dropdown)"
   ]
  },
  {
   "cell_type": "markdown",
   "id": "7fe3785a",
   "metadata": {},
   "source": [
    "That's definitely a lot of progress there as many of the infills selected are actually sitting at the true front even though the GPR prediction was incorrect. Also notice that some of the successful infill would have been discarded if we used the conventional Pareto dominance sorting and treat the GPR predicted positions as deterministic. We would have missed out really informative positions.\n",
    "\n",
    "Let's do 3 more outer iterations"
   ]
  },
  {
   "cell_type": "code",
   "execution_count": null,
   "id": "5ba95246",
   "metadata": {},
   "outputs": [],
   "source": [
    "optimizer.restart = True #we will pickup from where we left off at Outer-1\n",
    "optimizer.nmax_outer = 3 #3 more outer iterations\n",
    "optimizer.run() #run the whole SAMOO process outlined above"
   ]
  },
  {
   "cell_type": "markdown",
   "id": "f3942e42",
   "metadata": {},
   "source": [
    "Let's look at how we progressed in each outer iterations. Compare the resulting outer repository positions at each outer iteration. Notice how the confidence ellipsoid is reduced significantly in the inner iterations as more infills are added in the training dataset of the GPR."
   ]
  },
  {
   "cell_type": "code",
   "execution_count": null,
   "id": "98c7750a",
   "metadata": {},
   "outputs": [],
   "source": [
    "inner_dirs, outer_dirs = optimizer.get_dirlist()\n",
    "\n",
    "outer_dropdown = widgets.Dropdown(\n",
    "    options=outer_dirs,\n",
    "    value=outer_dirs[-1],\n",
    "    description='Outer Iteration:',\n",
    "    disabled=False\n",
    ")\n",
    "\n",
    "# Display the interactive plot\n",
    "widgets.interactive(plot_comparison, outer_selection=outer_dropdown)"
   ]
  },
  {
   "cell_type": "markdown",
   "id": "00ce9027",
   "metadata": {},
   "source": [
    "Now, let's revisit the progress of the Complex MOO run that we did in Part 2. Since GPR emulations are way faster compared to the complex model, we can \"roughly\" compare the progress of the Complex MOO run and SAMOO by their repository positions after having run the same number of complex model evaluations -- that is, the regular iteration of complex MOO vs the outer iteration of MOO.\n",
    "\n",
    "Use the slider below to plot Iteration-1 of complex MOO and compare it with Outer-1 of SAMOO in the plots above. Do you see the difference? SAMOO is able to find objective positions that are near or already Pareto optimal with fewer complex model evaluations. Keep comparing other iterations. "
   ]
  },
  {
   "cell_type": "code",
   "execution_count": null,
   "id": "e731747e",
   "metadata": {},
   "outputs": [],
   "source": [
    "from ipywidgets import interact, IntSlider, HBox, VBox, Output\n",
    "from IPython.display import display\n",
    "from scipy.interpolate import griddata\n",
    "import glob\n",
    "import matplotlib.pyplot as plt\n",
    "\n",
    "os.chdir('../../')\n",
    "run_data = pd.read_csv(os.path.join(temp_d, \"pbm_run\", \"kur.pareto.summary.csv\"))\n",
    "max_gen = max(run_data['generation'])\n",
    "\n",
    "csvfiles = sorted(glob.glob(os.path.join(temp_d, \"pbm_run\", \"*[0-999].dv_pop.csv\"), recursive=True), \n",
    "                  key=lambda x: int(x.split(\".dv\")[0].split(\".\")[1]))\n",
    "all_dv_list = []\n",
    "for file in csvfiles:\n",
    "    generation = int(file.split(\".dv\")[0].split(\".\")[1])\n",
    "    df = pd.read_csv(file).assign(generation=generation)\n",
    "    df = df[['generation'] + [col for col in df.columns if col != 'generation']] \n",
    "    all_dv_list.append(df)\n",
    "all_dv = pd.concat(all_dv_list, ignore_index=True)\n",
    "\n",
    "csvfiles = sorted(glob.glob(os.path.join(temp_d, \"pbm_run\", \"*[0-999].obs_pop.csv\"), recursive=True), \n",
    "                      key=lambda x: int(x.split(\".obs\")[0].split(\".\")[1]))\n",
    "\n",
    "all_obs_list = []\n",
    "for file in csvfiles:\n",
    "    generation = int(file.split(\".obs\")[0].split(\".\")[1])\n",
    "    df = pd.read_csv(file).assign(generation=generation)\n",
    "    df = df[['generation'] + [col for col in df.columns if col != 'generation']] \n",
    "    all_obs_list.append(df)\n",
    "all_obs = pd.concat(all_obs_list, ignore_index=True)\n",
    "\n",
    "all_data = pd.merge(all_dv, all_obs, on=['generation', 'real_name'])\n",
    "max_gen = max(all_data['generation'])\n",
    "\n",
    "n_samples = 40\n",
    "x1_range = np.linspace(-5, 5, int(np.sqrt(n_samples)))\n",
    "x2_range = np.linspace(-5, 5, int(np.sqrt(n_samples)))\n",
    "x1, x2 = np.meshgrid(x1_range, x2_range)\n",
    "x1 = x1.flatten()\n",
    "x2 = x2.flatten()\n",
    "\n",
    "x1 = x1[:n_samples]\n",
    "x2 = x2[:n_samples]\n",
    "\n",
    "n_actual = min(len(x1), len(x2))\n",
    "objectives = np.array([kursawe_2d([x1[i], x2[i]]) for i in range(n_actual)])\n",
    "obj1 = objectives[:, 0]\n",
    "obj2 = objectives[:, 1]\n",
    "\n",
    "xi = np.linspace(min(x1), max(x1), n_samples)\n",
    "yi = np.linspace(min(x2), max(x2), n_samples)\n",
    "xi_grid, yi_grid = np.meshgrid(xi, yi)\n",
    "zi1 = griddata((x1, x2), obj1, (xi_grid, yi_grid), method='cubic')\n",
    "zi2 = griddata((x1, x2), obj2, (xi_grid, yi_grid), method='cubic')\n",
    "\n",
    "out_pareto = Output()\n",
    "out_contour = Output()\n",
    "\n",
    "true_pareto = pd.read_csv(os.path.join('kursawe2d_demo', 'kursawe2d_solution_obj.csv'))\n",
    "\n",
    "def moo_plot_all(generation):\n",
    "    with out_pareto:\n",
    "        out_pareto.clear_output(wait=True)\n",
    "        pareto = run_data.loc[(run_data['generation']==generation) & (run_data['nsga2_front'] == 1)]\n",
    "        plt.figure(figsize=(5, 5))\n",
    "        plt.scatter(pareto['obj1'], pareto['obj2'], c='firebrick', s=20, zorder = 10, label = 'current non-dominated positions')\n",
    "        plt.scatter(true_pareto['obj1'], true_pareto['obj2'], c='deepskyblue', s=10, zorder = -10, label='Pareto optimal solutions')\n",
    "\n",
    "        all_points = run_data.loc[(run_data['generation']==generation)]\n",
    "        plt.scatter(all_points['obj1'], all_points['obj2'], edgecolor='green', c = 'none', s=30, label = 'all candidate positions')\n",
    "        \n",
    "        plt.xlabel('Objective 1')\n",
    "        plt.ylabel('Objective 2')\n",
    "        plt.xlim((-10.5, -2))\n",
    "        plt.ylim((-10, 15))\n",
    "        plt.legend()\n",
    "        plt.title(f'Pareto Front at Generation {generation}')\n",
    "        plt.tight_layout()\n",
    "        plt.show()\n",
    "generation_slider = IntSlider(min=0, max=max_gen, step=1, value=max_gen, \n",
    "                             description='Generation:',\n",
    "                             continuous_update=False)\n",
    "moo_plot_all(max_gen)\n",
    "\n",
    "generation_slider.observe(lambda change: moo_plot_all(change['new']), names='value')\n",
    "display(VBox([\n",
    "    generation_slider,\n",
    "    HBox([out_pareto]),\n",
    "    out_contour\n",
    "]))\n"
   ]
  },
  {
   "cell_type": "code",
   "execution_count": null,
   "id": "b7a4d1eb",
   "metadata": {},
   "outputs": [],
   "source": [
    "os.getcwd()"
   ]
  },
  {
   "cell_type": "markdown",
   "id": "e2280584",
   "metadata": {},
   "source": [
    "How many complex MOO iterations does it take to make it at the same level of progress that SAMOO had in Outer-1? Remember we are just pretending that the Kursawe problem is numerically expensive and complex, so run times for both these algorithms don't differ much, but imagine how much computational budget you would have saved if the Fonseca-Fleming functions were real-world groundwater model with each forward run taking hours to complete."
   ]
  },
  {
   "cell_type": "markdown",
   "id": "57ca0be0",
   "metadata": {},
   "source": [
    "### References\n",
    "\n",
    "Macasieb, R. Q., White, J. T., Pasetto, D., & Siade, A. J. (2025). A probabilistic approach to surrogate‐assisted multi‐objective optimization of complex groundwater problems (in production). Water Resources Research, 61, e2024WR038554. https://doi.org/10.1029/2024WR038554"
   ]
  }
 ],
 "metadata": {
  "kernelspec": {
   "display_name": "base",
   "language": "python",
   "name": "python3"
  },
  "language_info": {
   "codemirror_mode": {
    "name": "ipython",
    "version": 3
   },
   "file_extension": ".py",
   "mimetype": "text/x-python",
   "name": "python",
   "nbconvert_exporter": "python",
   "pygments_lexer": "ipython3",
   "version": "3.11.4"
  }
 },
 "nbformat": 4,
 "nbformat_minor": 5
}
