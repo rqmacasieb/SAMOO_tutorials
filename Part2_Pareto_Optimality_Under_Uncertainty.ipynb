{
 "cells": [
  {
   "cell_type": "markdown",
   "id": "984af293",
   "metadata": {},
   "source": [
    "# Pareto Optimality Under Uncertainty\n",
    "\n",
    "Now that we know what Pareto optimality is and that there's a tool to efficiently perform MOO, we have to face another problem: such undertaking is computationally expensive -- for large-scale real-world numerical model, one such forward run could take hours, let alone hundreds of thousand of runs required in MOO.\n",
    "\n",
    "For this tutorial, we will demonstrate how we can speed up the process of MOO by using a surrogate model, without compromising the reliability of solutions. We will still be using the 2D modified Kursawe problem."
   ]
  },
  {
   "cell_type": "code",
   "execution_count": 1,
   "id": "5bef47db",
   "metadata": {},
   "outputs": [],
   "source": [
    "import os\n",
    "import sys\n",
    "import shutil\n",
    "import pandas as pd\n",
    "import numpy as np\n",
    "import matplotlib.pyplot as plt\n",
    "import pyemu\n"
   ]
  },
  {
   "cell_type": "code",
   "execution_count": 2,
   "id": "085dd863",
   "metadata": {},
   "outputs": [],
   "source": [
    "def kursawe_2d(x):\n",
    "    x = np.array(x)\n",
    "    obj1 = -10 * np.exp(-0.2 * np.sqrt(x[0]**2 + x[1]**2))\n",
    "    obj2 = np.abs(x[0])**0.8 + 5 * np.sin(x[0]**3) + np.abs(x[1])**0.8 + 5 * np.sin(x[1]**3)\n",
    "    return obj1, obj2\n",
    "\n",
    "n_samples = 100\n",
    "x1_range = np.linspace(-5, 5, int(np.sqrt(n_samples)))\n",
    "x2_range = np.linspace(-5, 5, int(np.sqrt(n_samples)))\n",
    "x1, x2 = np.meshgrid(x1_range, x2_range)\n",
    "x1 = x1.flatten()\n",
    "x2 = x2.flatten()\n",
    "\n",
    "x1 = x1[:n_samples]\n",
    "x2 = x2[:n_samples]\n",
    "\n",
    "n_actual = min(len(x1), len(x2))\n",
    "objectives = np.array([kursawe_2d([x1[i], x2[i]]) for i in range(n_actual)])\n",
    "obj1 = objectives[:, 0]\n",
    "obj2 = objectives[:, 1]"
   ]
  },
  {
   "cell_type": "markdown",
   "id": "c3ddb3b2",
   "metadata": {},
   "source": [
    "Let us first generate the template files we need."
   ]
  },
  {
   "cell_type": "code",
   "execution_count": 4,
   "id": "ed69c779",
   "metadata": {},
   "outputs": [
    {
     "data": {
      "text/plain": [
       "'kursawe2d_demo'"
      ]
     },
     "execution_count": 4,
     "metadata": {},
     "output_type": "execute_result"
    }
   ],
   "source": [
    "base_d = \"./demo_files/kursawe2d\"\n",
    "assert os.path.exists(base_d)\n",
    "\n",
    "temp_d = \"kursawe2d_demo\"\n",
    "if os.path.exists(temp_d):\n",
    "    shutil.rmtree(temp_d)\n",
    "shutil.copytree(base_d,temp_d)"
   ]
  },
  {
   "cell_type": "markdown",
   "id": "ea0e506f",
   "metadata": {},
   "source": [
    "We can easily find Pareto optimal set of decision variables by running PESTPP-MOU. Let's generate an initial swarm size of 20 and perform 20 iterations of MOO. To ensure that our initial population is evenly distributed and sufficiently samples the decision space, it is advisable to use Latin Hypercube Sampling (LHS)."
   ]
  },
  {
   "cell_type": "code",
   "execution_count": null,
   "id": "fd4391b0",
   "metadata": {},
   "outputs": [
    {
     "name": "stdout",
     "output_type": "stream",
     "text": [
      "noptmax:20, npar_adj:2, nnz_obs:2\n"
     ]
    },
    {
     "data": {
      "text/html": [
       "<div>\n",
       "<style scoped>\n",
       "    .dataframe tbody tr th:only-of-type {\n",
       "        vertical-align: middle;\n",
       "    }\n",
       "\n",
       "    .dataframe tbody tr th {\n",
       "        vertical-align: top;\n",
       "    }\n",
       "\n",
       "    .dataframe thead th {\n",
       "        text-align: right;\n",
       "    }\n",
       "</style>\n",
       "<table border=\"1\" class=\"dataframe\">\n",
       "  <thead>\n",
       "    <tr style=\"text-align: right;\">\n",
       "      <th></th>\n",
       "      <th>x1</th>\n",
       "      <th>x2</th>\n",
       "    </tr>\n",
       "    <tr>\n",
       "      <th>real_name</th>\n",
       "      <th></th>\n",
       "      <th></th>\n",
       "    </tr>\n",
       "  </thead>\n",
       "  <tbody>\n",
       "    <tr>\n",
       "      <th>gen=0_member=0</th>\n",
       "      <td>-2.900058</td>\n",
       "      <td>2.001396</td>\n",
       "    </tr>\n",
       "    <tr>\n",
       "      <th>gen=0_member=1</th>\n",
       "      <td>-1.283856</td>\n",
       "      <td>2.516370</td>\n",
       "    </tr>\n",
       "    <tr>\n",
       "      <th>gen=0_member=2</th>\n",
       "      <td>2.938901</td>\n",
       "      <td>3.057931</td>\n",
       "    </tr>\n",
       "    <tr>\n",
       "      <th>gen=0_member=3</th>\n",
       "      <td>0.581404</td>\n",
       "      <td>-0.445164</td>\n",
       "    </tr>\n",
       "    <tr>\n",
       "      <th>gen=0_member=4</th>\n",
       "      <td>3.307439</td>\n",
       "      <td>-4.730684</td>\n",
       "    </tr>\n",
       "  </tbody>\n",
       "</table>\n",
       "</div>"
      ],
      "text/plain": [
       "                      x1        x2\n",
       "real_name                         \n",
       "gen=0_member=0 -2.900058  2.001396\n",
       "gen=0_member=1 -1.283856  2.516370\n",
       "gen=0_member=2  2.938901  3.057931\n",
       "gen=0_member=3  0.581404 -0.445164\n",
       "gen=0_member=4  3.307439 -4.730684"
      ]
     },
     "execution_count": 41,
     "metadata": {},
     "output_type": "execute_result"
    }
   ],
   "source": [
    "# You can change the size of initial sample or the number of inner iterations if you want to try other values. \n",
    "# Just be aware that larger sample size and more inner iterations will take longer time to run.\n",
    "swarm_size = 20\n",
    "nmax_inner = 20\n",
    "\n",
    "sys.path.append('./bin')\n",
    "from LHS_sampler import generate_lhsstarter\n",
    "bounds = np.array([[-5, 5] for i in range(2)])\n",
    "generate_lhsstarter(os.path.join(temp_d,'kursawe2d_pbm_template'), seed=42, n_samples=swarm_size, n_dimensions=2, bounds=bounds) \n",
    "\n",
    "pst_file = os.path.join(temp_d, 'kursawe2d_pbm_template', 'kur.pst')\n",
    "pst = pyemu.Pst(pst_file)\n",
    "pst.pestpp_options['mou_population_size'] = swarm_size\n",
    "pst.pestpp_options['mou_dv_population_file'] = 'starter.dv_pop.csv'\n",
    "pst.control_data.noptmax = nmax_inner\n",
    "pst.write(os.path.join(temp_d, 'kursawe2d_pbm_template', os.path.basename(pst_file)))\n",
    "\n",
    "starter_pop = pd.read_csv(os.path.join(temp_d, \"kursawe2d_pbm_template\", \"starter.dv_pop.csv\"), index_col=\"real_name\")\n",
    "starter_pop.head()"
   ]
  },
  {
   "cell_type": "markdown",
   "id": "3b314295",
   "metadata": {},
   "source": [
    "Now that we have generated an initial population, let us run pestpp-mou..."
   ]
  },
  {
   "cell_type": "code",
   "execution_count": 6,
   "id": "b4d52eed",
   "metadata": {},
   "outputs": [],
   "source": [
    "num_workers = 8\n",
    "tmpl_in = os.path.join(temp_d, \"kursawe2d_pbm_template\")\n",
    "sys.path.insert(0,tmpl_in)\n",
    "from forward_pbrun import ppw_worker as ppw_function\n",
    "pyemu.os_utils.start_workers(tmpl_in, \"../../bin/pestpp-mou\", \"kur.pst\", num_workers = num_workers,\n",
    "                             worker_root = temp_d, master_dir = os.path.join(temp_d, \"pbm_run\"),\n",
    "                             ppw_function = ppw_function)\n",
    "sys.path.remove(tmpl_in)"
   ]
  },
  {
   "cell_type": "markdown",
   "id": "6c1e47a7",
   "metadata": {},
   "source": [
    "Let's plot the resulting front."
   ]
  },
  {
   "cell_type": "code",
   "execution_count": null,
   "id": "59fa5814",
   "metadata": {},
   "outputs": [
    {
     "data": {
      "application/vnd.jupyter.widget-view+json": {
       "model_id": "630d0f0cae9847f4b732f7cc039aa9b2",
       "version_major": 2,
       "version_minor": 0
      },
      "text/plain": [
       "VBox(children=(IntSlider(value=20, continuous_update=False, description='Generation:', max=20), HBox(children=…"
      ]
     },
     "metadata": {},
     "output_type": "display_data"
    }
   ],
   "source": [
    "from ipywidgets import interact, IntSlider, HBox, VBox, Output\n",
    "from IPython.display import display\n",
    "from scipy.interpolate import griddata\n",
    "import glob\n",
    "import matplotlib.pyplot as plt\n",
    "\n",
    "run_data = pd.read_csv(os.path.join(temp_d, \"pbm_run\", \"kur.pareto.summary.csv\"))\n",
    "max_gen = max(run_data['generation'])\n",
    "\n",
    "csvfiles = sorted(glob.glob(os.path.join(temp_d, \"pbm_run\", \"*[0-999].dv_pop.csv\"), recursive=True), \n",
    "                  key=lambda x: int(x.split(\".dv\")[0].split(\".\")[1]))\n",
    "all_dv_list = []\n",
    "for file in csvfiles:\n",
    "    generation = int(file.split(\".dv\")[0].split(\".\")[1])\n",
    "    df = pd.read_csv(file).assign(generation=generation)\n",
    "    df = df[['generation'] + [col for col in df.columns if col != 'generation']] \n",
    "    all_dv_list.append(df)\n",
    "all_dv = pd.concat(all_dv_list, ignore_index=True)\n",
    "\n",
    "csvfiles = sorted(glob.glob(os.path.join(temp_d, \"pbm_run\", \"*[0-999].obs_pop.csv\"), recursive=True), \n",
    "                      key=lambda x: int(x.split(\".obs\")[0].split(\".\")[1]))\n",
    "\n",
    "all_obs_list = []\n",
    "for file in csvfiles:\n",
    "    generation = int(file.split(\".obs\")[0].split(\".\")[1])\n",
    "    df = pd.read_csv(file).assign(generation=generation)\n",
    "    df = df[['generation'] + [col for col in df.columns if col != 'generation']] \n",
    "    all_obs_list.append(df)\n",
    "all_obs = pd.concat(all_obs_list, ignore_index=True)\n",
    "\n",
    "all_data = pd.merge(all_dv, all_obs, on=['generation', 'real_name'])\n",
    "max_gen = max(all_data['generation'])\n",
    "\n",
    "n_samples = 100\n",
    "x1_range = np.linspace(-5, 5, int(np.sqrt(n_samples)))\n",
    "x2_range = np.linspace(-5, 5, int(np.sqrt(n_samples)))\n",
    "x1, x2 = np.meshgrid(x1_range, x2_range)\n",
    "x1 = x1.flatten()\n",
    "x2 = x2.flatten()\n",
    "\n",
    "x1 = x1[:n_samples]\n",
    "x2 = x2[:n_samples]\n",
    "\n",
    "n_actual = min(len(x1), len(x2))\n",
    "objectives = np.array([kursawe_2d([x1[i], x2[i]]) for i in range(n_actual)])\n",
    "obj1 = objectives[:, 0]\n",
    "obj2 = objectives[:, 1]\n",
    "\n",
    "xi = np.linspace(min(x1), max(x1), n_samples)\n",
    "yi = np.linspace(min(x2), max(x2), n_samples)\n",
    "xi_grid, yi_grid = np.meshgrid(xi, yi)\n",
    "zi1 = griddata((x1, x2), obj1, (xi_grid, yi_grid), method='cubic')\n",
    "zi2 = griddata((x1, x2), obj2, (xi_grid, yi_grid), method='cubic')\n",
    "\n",
    "out_pareto = Output()\n",
    "out_contour = Output()\n",
    "\n",
    "true_pareto = pd.read_csv(os.path.join('kursawe2d_demo', 'kursawe2d_solution_obj.csv'))\n",
    "\n",
    "def moo_plot_all(generation):\n",
    "    with out_pareto:\n",
    "        out_pareto.clear_output(wait=True)\n",
    "        pareto = run_data.loc[(run_data['generation']==generation) & (run_data['nsga2_front'] == 1)]\n",
    "        plt.figure(figsize=(5, 5))\n",
    "        plt.scatter(pareto['obj1'], pareto['obj2'], c='firebrick', s=20, zorder = 10, label = 'current non-dominated positions')\n",
    "        plt.scatter(true_pareto['obj1'], true_pareto['obj2'], c='deepskyblue', s=10, zorder = -10, label='Pareto optimal solutions')\n",
    "\n",
    "        all_points = run_data.loc[(run_data['generation']==generation)]\n",
    "        plt.scatter(all_points['obj1'], all_points['obj2'], edgecolor='green', c = 'none', s=30, label = 'all candidate positions')\n",
    "        \n",
    "        plt.xlabel('Objective 1')\n",
    "        plt.ylabel('Objective 2')\n",
    "        plt.xlim((-10.5, -2))\n",
    "        plt.ylim((-10, 15))\n",
    "        plt.legend()\n",
    "        plt.title(f'Pareto Front at Generation {generation}')\n",
    "        plt.tight_layout()\n",
    "        plt.show()\n",
    "generation_slider = IntSlider(min=0, max=max_gen, step=1, value=max_gen, \n",
    "                             description='Generation:',\n",
    "                             continuous_update=False)\n",
    "moo_plot_all(max_gen)\n",
    "\n",
    "generation_slider.observe(lambda change: moo_plot_all(change['new']), names='value')\n",
    "display(VBox([\n",
    "    generation_slider,\n",
    "    HBox([out_pareto]),\n",
    "    out_contour\n",
    "]))\n"
   ]
  },
  {
   "cell_type": "markdown",
   "id": "1b0b33fd",
   "metadata": {},
   "source": [
    "Use the slider to observe how the swarm's position and the front evolve at each iteration. We will revisit this later to compare with SAMOO, which will be introduced in Part 3 of this tutorial. This will be referred to as \"Complex MOO\" run.\n",
    "\n",
    "As this benchmark is not too complex, it doesn't take much time to complete one iteration and it doesn't take a lot of iteration to obtain a set of Pareto optimal solutions. However, in reality, real-world models do not run this fast. Even with parallelisation, it can take a few hundred, even thousand iterations until the swarm converges to the Pareto front. If important timely decisions rely on the outcome of such optimisation process, we would need some help to speed up this process. \n",
    "\n",
    "Let's pretend for a while that the modified Kursawe problem is a complex model that is computationally expensive to evaluate. There's nothing much we could do about the run time of the complex model. What we can do is to employ an \"emulator\", a faster and cheaper model that approximates the relationships between the known (i.e., previously evaluated) input and outputs of the complex model in order to predict its response to some input values that were not previously evaluated. This emulator is also known as the **surrogate model**. Because the surrogate model is an approximation, its prediction has errors. These errors could mislead the decision-making to some suboptimal solutions that are not actually in the Pareto front. This is some price to pay for speeding up the process, but don't worry as we have means to manage these uncertainties and still obtain truly Pareto optimal solutions.\n",
    "\n",
    "There are many surrogate models available in literature, but we will use Gaussian Process Regression (GPR) as it provides a convenient way quantify the uncertainty in predictions of the surrogate model, which, as previously said, needs to be managed well. There are many GPR tools but we will use local approximate GP (laGP) - it is originally an R package, but for easier integration in our algorithm, we will use the python implementation called laGPy."
   ]
  },
  {
   "cell_type": "markdown",
   "id": "e746fe95",
   "metadata": {},
   "source": [
    "Let's take a quick detour to see how GPR works. Here's a nonlinear function with 1D input and output. We generate, say 10, randomly generated values from within the bounds of the decision variable, and evaluate them in the nonlinear function. We then use the input-output pairs, or the **training dataset**, to \"train\" the GPR that can be used to predict the output of the nonlinear function at some other input values."
   ]
  },
  {
   "cell_type": "code",
   "execution_count": 9,
   "id": "be926d18",
   "metadata": {},
   "outputs": [
    {
     "data": {
      "application/vnd.jupyter.widget-view+json": {
       "model_id": "b342355033744006b2651fef0f419a0c",
       "version_major": 2,
       "version_minor": 0
      },
      "text/plain": [
       "VBox(children=(IntSlider(value=10, continuous_update=False, description='Training Dataset Size:', max=30, min=…"
      ]
     },
     "metadata": {},
     "output_type": "display_data"
    }
   ],
   "source": [
    "import matplotlib.pyplot as plt\n",
    "import laGPy as gpr\n",
    "import ipywidgets as widgets\n",
    "from IPython.display import display, clear_output\n",
    "\n",
    "def test_function(x):\n",
    "    return np.sin(x) * np.exp(-0.2 * np.abs(x)) + 0.5 * np.cos(2 * x)\n",
    "\n",
    "def update_plot(no_of_training_points):\n",
    "    np.random.seed(5)\n",
    "    X_train = np.sort(np.random.uniform(-10, 10, no_of_training_points))\n",
    "    y_train = test_function(X_train)\n",
    "\n",
    "    X_test = np.linspace(-10, 10, 10)\n",
    "    mean_pred = np.zeros(len(X_test))\n",
    "    std_pred = np.zeros(len(X_test))\n",
    "\n",
    "    for i in range(len(X_test)):\n",
    "        X_row = np.array([[X_test[i]]])\n",
    "        sims = gpr.laGP(Xref=X_row, X=X_train.reshape(-1, 1), Z=y_train, start=6, end=9, verb=0)\n",
    "        mean_pred[i] = sims['mean'].item()\n",
    "        std_pred[i] = np.sqrt(sims['s2'].item())\n",
    "    plt.figure(figsize=(10, 4))\n",
    "    plt.scatter(X_train, y_train, color='red', label='Training points', s=20, zorder = 10)\n",
    "    plt.scatter(X_test, mean_pred, color='blue', marker='o', label='Mean prediction at some tried points')\n",
    "\n",
    "    X = np.linspace(-10, 10, 100)\n",
    "    Y = test_function(X)\n",
    "    plt.plot(X, Y, color='k', alpha=0.5, label='True function')\n",
    "    min_idx = np.argmin(Y)\n",
    "    min_x, min_y = X[min_idx], Y[min_idx]\n",
    "    plt.scatter(min_x, min_y, color='red', marker='X', s=80, zorder=15, label=f'global minimum (x={min_x:.2f}, y={min_y:.2f})')\n",
    "    \n",
    "    mean_pred = np.zeros(len(X))\n",
    "    std_pred = np.zeros(len(X))\n",
    "    for i in range(len(X)):\n",
    "        X_row = np.array([[X[i]]])\n",
    "        sims = gpr.laGP(Xref=X_row, X=X_train.reshape(-1, 1), Z=y_train, start=6, end=9, verb=0)\n",
    "        mean_pred[i] = sims['mean'].item()\n",
    "        std_pred[i] = np.sqrt(sims['s2'].item())\n",
    "    plt.plot(X, mean_pred, color='orange', label='Emulated function')\n",
    "    emul_min_idx = np.argmin(mean_pred)\n",
    "    emul_min_x, emul_min_y = X[emul_min_idx], mean_pred[emul_min_idx]\n",
    "    plt.scatter(emul_min_x, emul_min_y, color='g',marker='+', s=60, zorder=15, label=f'emulated minimum (x={emul_min_x:.2f}, y={emul_min_y:.2f})')\n",
    "\n",
    "    plt.fill_between(X, mean_pred - std_pred, mean_pred + std_pred, color='grey', alpha=0.2, label='$\\\\pm 1$ s.d.', zorder=-10)\n",
    "    plt.fill_between(X, mean_pred - 2*std_pred, mean_pred + 2*std_pred, color='grey', alpha=0.15, label='$\\\\pm 2$ s.d.', zorder=-20)\n",
    "    plt.fill_between(X, mean_pred - 3*std_pred, mean_pred + 3*std_pred, color='grey', alpha=0.1, label='$\\\\pm 3$ s.d.', zorder=-30)\n",
    "\n",
    "    plt.xlabel('Input (x)')\n",
    "    plt.ylabel('Output (y)')\n",
    "    plt.ylim((-1.5, 1.5))\n",
    "    plt.legend(bbox_to_anchor=(1.05, 1), loc='upper left', borderaxespad=0.1)\n",
    "    plt.grid(True)\n",
    "    plt.tight_layout()\n",
    "    plt.show()\n",
    "\n",
    "training_points_slider = widgets.IntSlider(value=10, min=10, max=30, step=1, description='Training Dataset Size:', continuous_update=False)\n",
    "output = widgets.Output()\n",
    "with output:\n",
    "    update_plot(training_points_slider.value)\n",
    "def on_change(change):\n",
    "    with output:\n",
    "        clear_output(wait=True)\n",
    "        update_plot(change['new'])\n",
    "training_points_slider.observe(on_change, names='value')\n",
    "display(widgets.VBox([training_points_slider, output]))"
   ]
  },
  {
   "cell_type": "markdown",
   "id": "c52abf7d",
   "metadata": {},
   "source": [
    "The correctness of GPR prediction depends on the amount of data it is trained with. Try increasing the size of the training dataset in the plot above and see how the emulated function becomes more like the true function. Bigger training dataset size is, of course, ideal but computationally expensive as they are evaluated in the complex model (the nonlinear function, in this case, is the expensive groundwater model in real-world problems). It is more practical to start with a manageable training dataset size and, using the GPR, find informative points (we will call them \"infills\") to be evaluated in the complex model which will subsequently be added to the training dataset. These informative points are such that will inform the optimisation process of the probable location of the global optimum (i.e., they need not be the global optimum initially, but will eventually converge there). \n",
    "\n",
    "Suppose we set the initial training dataset to 10 and we wanted to minimise the function, notice how the emulated minimum is far from the global minimum. Also note that the mean of the emulation does not go all the way down to the global minimum, but it is within 3 standard deviations. As we increase the training dataset size, the uncertainties are reduced. The informative points that we wanted are those that will significantly reduce the uncertainty especially around the global minimum, so the GPR can accurately predict it. More about this will be demonstrated in Part 3 of this tutorial.\n",
    "\n",
    "Now, let's circle back to the original MOO problem. If we are starting with a few training points and emulate the objective functions, we have to deal with uncertainties in the prediction as illustrated below."
   ]
  },
  {
   "cell_type": "code",
   "execution_count": 13,
   "id": "7c4928f5",
   "metadata": {},
   "outputs": [
    {
     "data": {
      "image/png": "[encoded data removed]",
      "text/plain": [
       "<Figure size 800x400 with 1 Axes>"
      ]
     },
     "metadata": {},
     "output_type": "display_data"
    }
   ],
   "source": [
    "import matplotlib.patches as mpatches\n",
    "from matplotlib.patches import Ellipse\n",
    "import matplotlib.transforms as transforms\n",
    "\n",
    "def confidence_ellipsoid(x, y, ax, fc = 'peachpuff'):\n",
    "    width, height = 2 * 3.0 * x, 2 * 3.0 * y\n",
    "    ellipse = Ellipse((0, 0), width=width, height=height, fc= fc, ec = 'none', zorder = -20, alpha = 0.70)\n",
    "    transf = transforms.Affine2D().translate(0, 0)\n",
    "    ellipse.set_transform(transf + ax.transData)\n",
    "    return ax.add_patch(ellipse)\n",
    "\n",
    "def emulate_obj(Xref, X, Z1, Z2):\n",
    "    obj1 = gpr.laGP(Xref=Xref, X=X, Z=Z1, start = 6, end = 10, verb=0)\n",
    "    obj2 = gpr.laGP(Xref=Xref, X=X, Z=Z2, start = 6, end = 10, verb=0)\n",
    "    return obj1, obj2\n",
    "\n",
    "no_of_training_points = 50 #number of training points to train the GPR with\n",
    "\n",
    "np.random.seed(5)\n",
    "x_train = np.random.uniform(-5, 5, (no_of_training_points, 2))\n",
    "x1_train = x_train[:, 0]  \n",
    "x2_train = x_train[:, 1] \n",
    "\n",
    "objectives = np.array([kursawe_2d(x_train[i]) for i in range(no_of_training_points)])\n",
    "obj1 = objectives[:, 0]\n",
    "obj2 = objectives[:, 1]\n",
    "\n",
    "no_emu_points = 8 #number of emulated points\n",
    "x_sample = np.random.uniform(-5, 5, (no_emu_points, 2))  # 2D array with 50 rows and 2 columns\n",
    "x1_sample = x_sample[:, 0]  \n",
    "x2_sample = x_sample[:, 1]  \n",
    "\n",
    "obj1_mean = np.zeros(no_emu_points)\n",
    "obj1_sd = np.zeros(no_emu_points)\n",
    "obj2_mean = np.zeros(no_emu_points)\n",
    "obj2_sd = np.zeros(no_emu_points)\n",
    "\n",
    "for i in range(no_emu_points):\n",
    "    x_row = x_sample[i].reshape(1,-1)\n",
    "    sims1, sims2 = emulate_obj(x_row, x_train, obj1, obj2)\n",
    "    obj1_mean[i] = sims1['mean'].item()\n",
    "    obj1_sd[i] = np.sqrt(sims1['s2'].item())\n",
    "    obj2_mean[i] = sims2['mean'].item()\n",
    "    obj2_sd[i] = np.sqrt(sims2['s2'].item())\n",
    "\n",
    "fig1, ax1 = plt.subplots(figsize=(8, 4))\n",
    "ax1.scatter(true_pareto['obj1'], true_pareto['obj2'], c='deepskyblue', s=10, zorder=-10, label='Pareto optimal solutions')\n",
    "\n",
    "ax1.scatter(obj1_mean, obj2_mean, ec='g', c='none', label='Emulated objectives')\n",
    "for i in range(no_emu_points):\n",
    "    confidence_ellipsoid(obj1_sd[i], obj2_sd[i], ax1).set_center((obj1_mean[i], obj2_mean[i]))\n",
    "\n",
    "# Set labels and title\n",
    "ax1.set_xlabel('Objective 1 (minimise)')\n",
    "ax1.set_ylabel('Objective 2 (minimise)')\n",
    "peach_patch = mpatches.Patch(color='peachpuff', alpha=0.7, label='±3 s.d.')\n",
    "ax1.legend(handles=[*ax1.get_legend_handles_labels()[0], peach_patch], bbox_to_anchor=(1.05, 1), loc='upper left')\n",
    "plt.tight_layout()\n"
   ]
  },
  {
   "cell_type": "markdown",
   "id": "e3c43c62",
   "metadata": {},
   "source": [
    " These uncertainties will affect the dominance relationship between objective positions. Let's take a closer look at the dominance relationship between two emulated objectives:"
   ]
  },
  {
   "cell_type": "code",
   "execution_count": 21,
   "id": "c7071a1f",
   "metadata": {},
   "outputs": [
    {
     "data": {
      "application/vnd.jupyter.widget-view+json": {
       "model_id": "8429dd270084488ab72e6b4c84524d1c",
       "version_major": 2,
       "version_minor": 0
      },
      "text/plain": [
       "interactive(children=(FloatSlider(value=-0.6, continuous_update=False, description='x1:', max=5.0, min=-5.0), …"
      ]
     },
     "metadata": {},
     "output_type": "display_data"
    },
    {
     "data": {
      "text/plain": [
       "<function __main__.update_plot(x1_new, x2_new)>"
      ]
     },
     "execution_count": 21,
     "metadata": {},
     "output_type": "execute_result"
    }
   ],
   "source": [
    "from ipywidgets import interact\n",
    "from scipy.stats import norm\n",
    "\n",
    "def emulate_obj(Xref, X, Z1, Z2):\n",
    "    obj1 = gpr.laGP(Xref=Xref, X=X, Z=Z1, start = 6, end = 10, verb=0)\n",
    "    obj2 = gpr.laGP(Xref=Xref, X=X, Z=Z2, start = 6, end = 10, verb=0)\n",
    "    return obj1, obj2\n",
    "\n",
    "def compute_pd(pos1_obj1, pos1_obj2, pos2_obj1, pos2_obj2):\n",
    "    pd = norm.cdf((pos2_obj1['mean'] - pos1_obj1['mean']) / np.sqrt(np.sqrt(pos1_obj1['s2'])*2 + np.sqrt(pos2_obj1['s2'])**2))\n",
    "    pd *= norm.cdf((pos2_obj2['mean'] - pos1_obj2['mean']) / np.sqrt(np.sqrt(pos1_obj2['s2'])*2 + np.sqrt(pos2_obj2['s2'])**2))\n",
    "    return pd\n",
    "\n",
    "no_of_training_points = 30\n",
    "\n",
    "np.random.seed(5)\n",
    "x_train = np.random.uniform(-5, 5, (no_of_training_points, 2))\n",
    "x1_train = x_train[:, 0]  \n",
    "x2_train = x_train[:, 1] \n",
    "\n",
    "objectives = np.array([kursawe_2d(x_train[i]) for i in range(no_of_training_points)])\n",
    "obj1 = objectives[:, 0]\n",
    "obj2 = objectives[:, 1]\n",
    "\n",
    "def update_plot(x1_new, x2_new):\n",
    "    plt.clf()\n",
    "    fig1, ax1 = plt.subplots(figsize=(8, 6))\n",
    "    sims1a, sims2a = emulate_obj(np.array([[0.2, 0.4]]), x_train, obj1, obj2)\n",
    "    # ax1.scatter(true_pareto['obj1'], true_pareto['obj2'], c='deepskyblue', s=10, zorder=-10, label='Pareto optimal solutions')    \n",
    "    ax1.scatter(sims1a['mean'].item(), sims2a['mean'].item(), ec='g', c='none', label='Emulated objectives')\n",
    "    confidence_ellipsoid(np.sqrt(sims1a['s2'].item()), np.sqrt(sims2a['s2'].item()), ax1, fc = 'lightcoral').set_center((sims1a['mean'].item(), sims2a['mean'].item()))\n",
    "    \n",
    "    x_row = np.array([[x1_new, x2_new]])\n",
    "    p1o1, p1o2 = emulate_obj(x_row, x_train, obj1, obj2)\n",
    "    new_obj1_mean = p1o1['mean'].item()\n",
    "    new_obj1_sd = np.sqrt(p1o1['s2'].item())\n",
    "    new_obj2_mean = p1o2['mean'].item()\n",
    "    new_obj2_sd = np.sqrt(p1o2['s2'].item())\n",
    "    \n",
    "    ax1.scatter(new_obj1_mean, new_obj2_mean, ec='r', c='none', s=40, label='Your input (emulated)')\n",
    "    confidence_ellipsoid(new_obj1_sd, new_obj2_sd, ax1).set_center((new_obj1_mean, new_obj2_mean))\n",
    "    \n",
    "    rect_width = -2- new_obj1_mean \n",
    "    rect_height = 20 - new_obj2_mean\n",
    "    rect = plt.Rectangle((new_obj1_mean, new_obj2_mean), rect_width, rect_height, \n",
    "                         color='grey', alpha=0.2, label = 'conventional dominance region')\n",
    "    plt.gca().add_patch(rect)\n",
    "\n",
    "    ax1.set_xlabel('Objective 1 (minimise)')\n",
    "    ax1.set_ylabel('Objective 2 (minimise)')\n",
    "    plt.xlim((-10, -2))\n",
    "    plt.ylim((-15, 20))\n",
    "    peach_patch = mpatches.Patch(color='peachpuff', alpha=0.7, label='±3 s.d.')\n",
    "    ax1.legend(handles=[*ax1.get_legend_handles_labels()[0], peach_patch], bbox_to_anchor=(1.05, 1), loc='upper left')\n",
    "    plt.tight_layout()\n",
    "    \n",
    "    prob_dom_red = compute_pd(p1o1, p1o2, sims1a, sims2a)\n",
    "    prob_dom_grn = compute_pd(sims1a, sims2a, p1o1, p1o2)\n",
    "\n",
    "    ax1.annotate(\n",
    "        f\"Objectives (mean ± 3 s.d.)\\nat trial point ({x1_new:.2f}, {x2_new:.2f}):\\n\"\n",
    "        f\"obj1 = {new_obj1_mean:.4f} ± {3 * new_obj1_sd:.4f}\\n\"\n",
    "        f\"obj2 = {new_obj2_mean:.4f} ± {3 * new_obj2_sd:.4f}\\n \\n\"\n",
    "        f\"prob(red dom. green) = {prob_dom_red.item():.4f}\\n\"\n",
    "        f\"prob(green dom. red) = {prob_dom_grn.item():.4f}\",\n",
    "        xy=(1.05, 0.5),\n",
    "        xycoords='axes fraction',\n",
    "        va='center',\n",
    "        bbox=dict(boxstyle=\"round,pad=0.5\", fc=\"white\", alpha=0.8)\n",
    "    )\n",
    "\n",
    "\n",
    "x1_slider = widgets.FloatSlider(value=-0.60, min=-5.0, max=5.0, step=0.1, description='x1:', continuous_update=False)\n",
    "x2_slider = widgets.FloatSlider(value=0.40, min=-5.0, max=5.0, step=0.1, description='x2:', continuous_update=False)\n",
    "\n",
    "interact(update_plot, x1_new=x1_slider, x2_new=x2_slider)"
   ]
  },
  {
   "cell_type": "markdown",
   "id": "0a546386",
   "metadata": {},
   "source": [
    "Under the conventional definition of dominance, the red position would have dominated the green position. However, acknowledging that green is uncertain (because it is emulated -- for now, the only source of uncertainty that we consider is the GPR emulation) and it's true value could be anywhere in its ellipsoid, there is some chance that green may dominate red. If we use the traditional dominance criteria in the optimisation and green turned out to be informative, it could have been eliminated (this will be more clearly observed in Part 3 of this tutorial. Our focus for now is to demonstrate Pareto Dominance Under Uncertainty) from the set of infills.\n",
    "\n",
    "We can compute the probability of one objective position dominating the other position -- the Probability of Dominance (PD). This has also been computed and shown above. Using PD, we introduce the probabilistic Pareto dominance (PPD) concept: considering the uncertainty of emulated position A, we can only say that it is probable to dominate another emulated position B, if PD of A dominating B exceeds a value $\\beta$, which ideally is set between 0.5-0.70. In the example above, if we set $\\beta$ to be 0.50, neither red nor green has significant probability of dominating each other; thus, they are both kept in the set of non-dominated solutions. Try moving the red position around and observe PD values.\n",
    "\n",
    "Let's have a look at how this plays out with an entire population in an MOO iteration."
   ]
  },
  {
   "cell_type": "code",
   "execution_count": 40,
   "id": "11339c2b",
   "metadata": {},
   "outputs": [
    {
     "data": {
      "application/vnd.jupyter.widget-view+json": {
       "model_id": "70fdabd94ecc41659df1a2ca43991295",
       "version_major": 2,
       "version_minor": 0
      },
      "text/plain": [
       "interactive(children=(FloatSlider(value=0.5, continuous_update=False, description='Beta (β):', max=1.0, min=0.…"
      ]
     },
     "metadata": {},
     "output_type": "display_data"
    },
    {
     "data": {
      "text/plain": [
       "<function __main__.interactive_ppd_plot(beta=0.5, use_ppd=True, ignore_unc=False, show_ellipsoids='none')>"
      ]
     },
     "execution_count": 40,
     "metadata": {},
     "output_type": "execute_result"
    }
   ],
   "source": [
    "from ipywidgets import interact, FloatSlider, IntSlider, Checkbox, VBox, HBox, RadioButtons\n",
    "sys.path.append('./bin')\n",
    "from LHS_sampler import LatinHypercube\n",
    "from nondomsort_utils import dominance_eval, first_dom_second, get_non_dominated_points\n",
    "\n",
    "def interactive_ppd_plot(beta=0.50, use_ppd=True, ignore_unc=False, show_ellipsoids='none'):\n",
    "    np.random.seed(5)\n",
    "    no_of_training_points = 20\n",
    "    x_train = np.random.uniform(-5, 5, (no_of_training_points, 2))\n",
    "    x1_train = x_train[:, 0]  \n",
    "    x2_train = x_train[:, 1] \n",
    "\n",
    "    objectives = np.array([kursawe_2d(x_train[i]) for i in range(no_of_training_points)])\n",
    "    obj1 = objectives[:, 0]\n",
    "    obj2 = objectives[:, 1]\n",
    "\n",
    "    bounds = np.array([[-5, 5] for i in range(2)])\n",
    "    n_samples = 50\n",
    "    lhs = LatinHypercube(n_samples=n_samples, n_dimensions=2)\n",
    "    samples = lhs.sample(method='maximin', bounds=bounds, iterations=1000)\n",
    "\n",
    "    obj1_pred = np.zeros(n_samples, dtype=[('mean', float), ('s2', float)])\n",
    "    obj2_pred = np.zeros(n_samples, dtype=[('mean', float), ('s2', float)])\n",
    "\n",
    "    for i in range(n_samples):\n",
    "        xrow_i = samples[i].reshape(1, -1)\n",
    "        obj1_i, obj2_i = emulate_obj(xrow_i, x_train, obj1, obj2)\n",
    "        \n",
    "        obj1_pred[i]['mean'] = obj1_i['mean'].item()\n",
    "        obj2_pred[i]['mean'] = obj2_i['mean'].item() \n",
    "\n",
    "        if ignore_unc:\n",
    "            obj1_pred[i]['s2'] = 0\n",
    "            obj2_pred[i]['s2'] = 0\n",
    "        else:\n",
    "            obj1_pred[i]['s2'] = obj1_i['s2'].item()\n",
    "            obj2_pred[i]['s2'] = obj2_i['s2'].item()\n",
    "        \n",
    "    if use_ppd:\n",
    "        non_dominated_indices = get_non_dominated_points(obj1_pred, obj2_pred, beta, n_samples)\n",
    "    else:\n",
    "        means_only = np.column_stack(([obj1_pred[i]['mean'] for i in range(n_samples)], [obj2_pred[i]['mean'] for i in range(n_samples)]))\n",
    "        non_dominated_indices = []\n",
    "        for i in range(n_samples):\n",
    "            is_dominated = False\n",
    "            for j in range(n_samples):\n",
    "                if i != j and means_only[j, 0] <= means_only[i, 0] and means_only[j, 1] <= means_only[i, 1] and \\\n",
    "                   (means_only[j, 0] < means_only[i, 0] or means_only[j, 1] < means_only[i, 1]):\n",
    "                    is_dominated = True\n",
    "                    break\n",
    "            if not is_dominated:\n",
    "                non_dominated_indices.append(i)\n",
    "\n",
    "    plt.figure(figsize=(8, 5))\n",
    "    plt.scatter([obj1_pred[i]['mean'] for i in range(n_samples)], [obj2_pred[i]['mean'] for i in range(n_samples)], \n",
    "                c='lightgray', s=30, alpha=0.7, label='All emulated points')\n",
    "    plt.scatter([obj1_pred[i]['mean'] for i in non_dominated_indices], [obj2_pred[i]['mean'] for i in non_dominated_indices], \n",
    "                ec='g', c='none', s=50, label=f'Non-dominated points')\n",
    "    # plt.scatter(true_pareto['obj1'], true_pareto['obj2'], c='deepskyblue', s=20, label='True Pareto front')\n",
    "\n",
    "    if show_ellipsoids == 'non-dominated' and use_ppd:\n",
    "        for i in non_dominated_indices:\n",
    "            confidence_ellipsoid(np.sqrt(obj1_pred[i]['s2']), np.sqrt(obj2_pred[i]['s2']), plt.gca()).set_center(\n",
    "                (obj1_pred[i]['mean'], obj2_pred[i]['mean']))\n",
    "    elif show_ellipsoids == 'all' and use_ppd:\n",
    "        for i in range(n_samples):\n",
    "            confidence_ellipsoid(np.sqrt(obj1_pred[i]['s2']), np.sqrt(obj2_pred[i]['s2']), plt.gca()).set_center(\n",
    "                (obj1_pred[i]['mean'], obj2_pred[i]['mean']))\n",
    "        \n",
    "    plt.xlabel('Objective 1 (minimize)')\n",
    "    plt.ylabel('Objective 2 (minimize)')\n",
    "    plt.legend(loc='upper right')\n",
    "    plt.grid(True, alpha=0.3)\n",
    "    plt.tight_layout()\n",
    "    plt.show()\n",
    "    \n",
    "    print(f\"Number of non-dominated points: {len(non_dominated_indices)}\")\n",
    "\n",
    "# Create interactive widgets\n",
    "beta_slider = FloatSlider(value=0.50, min=0.45, max=1.0, step=0.01, description='Beta (β):', continuous_update=False)\n",
    "training_size_slider = IntSlider(value=20, min=20, max=500, step=1, description='Training dataset size:', continuous_update=False)\n",
    "ppd_checkbox = Checkbox(value=True, description='apply PPD')\n",
    "assume_zero_var_checkbox = Checkbox(value=False, description='assume deterministic')\n",
    "ellipsoid_radio = RadioButtons(options=['none', 'non-dominated', 'all'],\n",
    "    description='Show uncertainty ellipsoids:', disabled=False)\n",
    "\n",
    "interact(interactive_ppd_plot, \n",
    "         beta=beta_slider,\n",
    "         use_ppd=ppd_checkbox,\n",
    "         ignore_unc=assume_zero_var_checkbox,\n",
    "         show_ellipsoids=ellipsoid_radio)"
   ]
  },
  {
   "cell_type": "markdown",
   "id": "6724be6f",
   "metadata": {},
   "source": [
    "Because we now recognise emulation uncertainty, we no longer see non-dominated solutions that trace the front like a curve (try turning off PPD above), but instead observe a **Pareto cloud** consisting of probabilistically non-dominated solutions. Try increasing the value of beta and observe how the size of the cloud changes. Beta represents our confidence threshold to distinguish potentially non-dominated solutions that could comprise the true front. Try setting beta to 0.45, see how the cloud now looks like a conventional front? \n",
    "\n",
    "Suppose these positions have zero variance either due to the GPR being well-trained with a massive dataset or  PPD is applied on the outputs of the deterministic model. Tick \"assume deterministic\" above and observe how the resulting cloud also becomes a conventional front. This demonstrates that PPD is the generalisation of Pareto dominance under uncertainty.\n",
    "\n",
    "The next part of this tutorial puts these things together in the algorithm of pestpp-mou."
   ]
  },
  {
   "cell_type": "markdown",
   "id": "25d310e4",
   "metadata": {},
   "source": [
    "### Relevant works:\n",
    "Macasieb, R. Q., White, J. T., Pasetto, D.,& Siade, A. J. (2025). A probabilisticapproach to surrogate‐assistedmulti‐objective optimization of complexgroundwater problems. Water ResourcesResearch, 61, e2024WR038554. https://doi.org/10.1029/2024WR038554"
   ]
  }
 ],
 "metadata": {
  "kernelspec": {
   "display_name": "base",
   "language": "python",
   "name": "python3"
  },
  "language_info": {
   "codemirror_mode": {
    "name": "ipython",
    "version": 3
   },
   "file_extension": ".py",
   "mimetype": "text/x-python",
   "name": "python",
   "nbconvert_exporter": "python",
   "pygments_lexer": "ipython3",
   "version": "3.11.4"
  }
 },
 "nbformat": 4,
 "nbformat_minor": 5
}
